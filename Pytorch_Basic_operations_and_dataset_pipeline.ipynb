{
  "nbformat": 4,
  "nbformat_minor": 0,
  "metadata": {
    "colab": {
      "provenance": []
    },
    "kernelspec": {
      "name": "python3",
      "display_name": "Python 3"
    },
    "language_info": {
      "name": "python"
    }
  },
  "cells": [
    {
      "cell_type": "markdown",
      "source": [
        "#**Understanding PyTorch library and its working for Machine Learning especially for Deep Learning**\n",
        "\n",
        "From official page :\n",
        "\n",
        "It is an *end-to-end machine learning framework*.\n",
        "\n",
        "PyTorch enables fast, flexible experimentation and efficient production through a user-friendly front-end, distributed training, and ecosystem of tools and libraries.\n",
        "\n",
        "\n",
        "-----------------------------\n",
        "\n",
        "Here, we will be going through the basic concepts of PyTorch library along with examples of build machine learning components.\n",
        "\n",
        "If you already know the concepts related with Numpy or TensorFlow libraries, It will be very easy to understand PyTorch concepts.\n",
        "\n",
        "For Installing PyTorch, please refer here : https://pytorch.org/get-started/locally/\n",
        "\n"
      ],
      "metadata": {
        "id": "ZZMm-pkaUETl"
      }
    },
    {
      "cell_type": "code",
      "execution_count": 1,
      "metadata": {
        "id": "4Fsxlnp-6IjU"
      },
      "outputs": [],
      "source": [
        "# importing the PyTorch library\n",
        "import torch"
      ]
    },
    {
      "cell_type": "code",
      "source": [
        "# Tensors are arrays that are the building blocks of Neural Networks and othe ML Algo.\n",
        "# Create tensors: Create two 1D/2D tensors A and B of the same size, for example:\n",
        "A = torch.tensor([1, 2, 3])\n",
        "B = torch.tensor([[9, 8, 7], [6, 5, 4], [3, 2, 1]], dtype=torch.float32)\n",
        "print(A)\n",
        "print(B)\n",
        "print(A.shape)\n",
        "print(B.shape)\n",
        "print(A.ndim)  # dimension of tensor A\n",
        "print(B.ndim)  # dimension of tensor B\n",
        "print(A.type)\n",
        "print(B.dtype)  # data type os tensor B\n",
        "\n",
        "A = A.type(torch.FloatTensor)  # changing datatype\n",
        "print(A)"
      ],
      "metadata": {
        "colab": {
          "base_uri": "https://localhost:8080/"
        },
        "id": "CQUS3hpj6P01",
        "outputId": "8182943e-161d-4437-de2e-46b3b630c73c"
      },
      "execution_count": 2,
      "outputs": [
        {
          "output_type": "stream",
          "name": "stdout",
          "text": [
            "tensor([1, 2, 3])\n",
            "tensor([[9., 8., 7.],\n",
            "        [6., 5., 4.],\n",
            "        [3., 2., 1.]])\n",
            "torch.Size([3])\n",
            "torch.Size([3, 3])\n",
            "1\n",
            "2\n",
            "<built-in method type of Tensor object at 0x7ed577ee0e00>\n",
            "torch.float32\n",
            "tensor([1., 2., 3.])\n"
          ]
        }
      ]
    },
    {
      "cell_type": "code",
      "source": [
        "# Initializing the tensors\n",
        "# The simplest way to create a tensor is with the torch.empty() call:\n",
        "\n",
        "x = torch.empty(3, 4)  # Not initialized with any value (has random numbers)\n",
        "print(type(x))\n",
        "print(x)\n",
        "# The torch.empty() call allocates memory for the tensor, but does not initialize it with any values"
      ],
      "metadata": {
        "colab": {
          "base_uri": "https://localhost:8080/"
        },
        "id": "jMdadRYKiP3c",
        "outputId": "6873d583-b5b5-46b7-8636-c2418d6268f5"
      },
      "execution_count": 3,
      "outputs": [
        {
          "output_type": "stream",
          "name": "stdout",
          "text": [
            "<class 'torch.Tensor'>\n",
            "tensor([[1.7261e+13, 4.5500e-41, 1.7261e+13, 4.5500e-41],\n",
            "        [2.1019e-44, 0.0000e+00, 9.1084e-44, 0.0000e+00],\n",
            "        [3.9518e-32, 3.2132e-41, 3.9517e-32, 3.2132e-41]])\n"
          ]
        }
      ]
    },
    {
      "cell_type": "code",
      "source": [
        "# We can define and initialize the tensors as below:\n",
        "zeros = torch.zeros(2, 3)\n",
        "print(zeros)\n",
        "# tensor with similar shapes using :  like\n",
        "zeros_likes = torch.zeros_like(zeros)\n",
        "print(zeros_likes)\n",
        "\n",
        "ones = torch.ones(2, 3)\n",
        "print(ones)\n",
        "\n",
        "torch.manual_seed(1729)\n",
        "random = torch.rand(2, 3)\n",
        "print(random)"
      ],
      "metadata": {
        "colab": {
          "base_uri": "https://localhost:8080/"
        },
        "id": "UPvMeQE7ix5h",
        "outputId": "d0f0c0b0-763d-4a05-a619-05df902f4f5a"
      },
      "execution_count": 4,
      "outputs": [
        {
          "output_type": "stream",
          "name": "stdout",
          "text": [
            "tensor([[0., 0., 0.],\n",
            "        [0., 0., 0.]])\n",
            "tensor([[0., 0., 0.],\n",
            "        [0., 0., 0.]])\n",
            "tensor([[1., 1., 1.],\n",
            "        [1., 1., 1.]])\n",
            "tensor([[0.3126, 0.3791, 0.3087],\n",
            "        [0.0736, 0.4216, 0.0691]])\n"
          ]
        }
      ]
    },
    {
      "cell_type": "code",
      "source": [
        "# Tensor Broadcasting : Brief Introduction\n",
        "rand = torch.rand(2, 4)\n",
        "doubled = rand * (torch.ones(1, 4) * 2)\n",
        "\n",
        "print(rand)\n",
        "print(doubled)"
      ],
      "metadata": {
        "colab": {
          "base_uri": "https://localhost:8080/"
        },
        "id": "pxCL55b1i4qu",
        "outputId": "700cbc67-7389-4d0c-f0af-ba4deb552761"
      },
      "execution_count": 5,
      "outputs": [
        {
          "output_type": "stream",
          "name": "stdout",
          "text": [
            "tensor([[0.2332, 0.4047, 0.2162, 0.9927],\n",
            "        [0.4128, 0.5938, 0.6128, 0.1519]])\n",
            "tensor([[0.4664, 0.8093, 0.4325, 1.9854],\n",
            "        [0.8255, 1.1876, 1.2255, 0.3039]])\n"
          ]
        }
      ]
    },
    {
      "cell_type": "code",
      "source": [
        "# Rules for Broadcasting:\n",
        "\"\"\"\n",
        "1. Each tensor must have at least one dimension - no empty tensors.\n",
        "\n",
        "2. Comparing the dimension sizes of the two tensors, going from last to first:\n",
        "\n",
        "    -> Each dimension must be equal, or\n",
        "    -> One of the dimensions must be of size 1, or\n",
        "    -> The dimension does not exist in one of the tensors\n",
        "\n",
        "Example: This is an important operation in Deep Learning. The common example is multiplying\n",
        "a tensor of learning weights by a batch of input tensors, applying the operation to\n",
        "each instance in the batch separately, and returning a tensor of identical shape.\n",
        "\"\"\"\n",
        "\n",
        "a =     torch.ones(4, 3, 2)\n",
        "\n",
        "b = a * torch.rand(   3, 2) # 3rd & 2nd dims identical to a, dim 1 absent\n",
        "print(b)\n",
        "\n",
        "c = a * torch.rand(   3, 1) # 3rd dim = 1, 2nd dim identical to a\n",
        "print(c)\n",
        "\n",
        "d = a * torch.rand(   1, 2) # 3rd dim identical to a, 2nd dim = 1\n",
        "print(d)"
      ],
      "metadata": {
        "colab": {
          "base_uri": "https://localhost:8080/"
        },
        "id": "9SbuSl7VjgQj",
        "outputId": "07d74951-fb3c-47ca-a9e6-8ed273a67ef3"
      },
      "execution_count": 6,
      "outputs": [
        {
          "output_type": "stream",
          "name": "stdout",
          "text": [
            "tensor([[[0.0453, 0.5035],\n",
            "         [0.9978, 0.3884],\n",
            "         [0.6929, 0.1703]],\n",
            "\n",
            "        [[0.0453, 0.5035],\n",
            "         [0.9978, 0.3884],\n",
            "         [0.6929, 0.1703]],\n",
            "\n",
            "        [[0.0453, 0.5035],\n",
            "         [0.9978, 0.3884],\n",
            "         [0.6929, 0.1703]],\n",
            "\n",
            "        [[0.0453, 0.5035],\n",
            "         [0.9978, 0.3884],\n",
            "         [0.6929, 0.1703]]])\n",
            "tensor([[[0.1384, 0.1384],\n",
            "         [0.4759, 0.4759],\n",
            "         [0.7481, 0.7481]],\n",
            "\n",
            "        [[0.1384, 0.1384],\n",
            "         [0.4759, 0.4759],\n",
            "         [0.7481, 0.7481]],\n",
            "\n",
            "        [[0.1384, 0.1384],\n",
            "         [0.4759, 0.4759],\n",
            "         [0.7481, 0.7481]],\n",
            "\n",
            "        [[0.1384, 0.1384],\n",
            "         [0.4759, 0.4759],\n",
            "         [0.7481, 0.7481]]])\n",
            "tensor([[[0.0361, 0.5062],\n",
            "         [0.0361, 0.5062],\n",
            "         [0.0361, 0.5062]],\n",
            "\n",
            "        [[0.0361, 0.5062],\n",
            "         [0.0361, 0.5062],\n",
            "         [0.0361, 0.5062]],\n",
            "\n",
            "        [[0.0361, 0.5062],\n",
            "         [0.0361, 0.5062],\n",
            "         [0.0361, 0.5062]],\n",
            "\n",
            "        [[0.0361, 0.5062],\n",
            "         [0.0361, 0.5062],\n",
            "         [0.0361, 0.5062]]])\n"
          ]
        }
      ]
    },
    {
      "cell_type": "code",
      "source": [
        "# Wrong scenarios of Broadcasting:\n",
        "a =     torch.ones(4, 3, 2)\n",
        "\n",
        "b = a * torch.rand(4, 3)    # dimensions must match last-to-first\n",
        "\n",
        "c = a * torch.rand(   2, 3) # both 3rd & 2nd dims different\n",
        "\n",
        "d = a * torch.rand((0, ))   # can't broadcast with an empty tensor"
      ],
      "metadata": {
        "colab": {
          "base_uri": "https://localhost:8080/",
          "height": 245
        },
        "id": "zzKNSp3zkBZ3",
        "outputId": "710f4d52-d62d-4d57-e17b-2c72772588ce"
      },
      "execution_count": 8,
      "outputs": [
        {
          "output_type": "error",
          "ename": "RuntimeError",
          "evalue": "ignored",
          "traceback": [
            "\u001b[0;31m---------------------------------------------------------------------------\u001b[0m",
            "\u001b[0;31mRuntimeError\u001b[0m                              Traceback (most recent call last)",
            "\u001b[0;32m<ipython-input-8-121bd0d61712>\u001b[0m in \u001b[0;36m<cell line: 4>\u001b[0;34m()\u001b[0m\n\u001b[1;32m      2\u001b[0m \u001b[0ma\u001b[0m \u001b[0;34m=\u001b[0m     \u001b[0mtorch\u001b[0m\u001b[0;34m.\u001b[0m\u001b[0mones\u001b[0m\u001b[0;34m(\u001b[0m\u001b[0;36m4\u001b[0m\u001b[0;34m,\u001b[0m \u001b[0;36m3\u001b[0m\u001b[0;34m,\u001b[0m \u001b[0;36m2\u001b[0m\u001b[0;34m)\u001b[0m\u001b[0;34m\u001b[0m\u001b[0;34m\u001b[0m\u001b[0m\n\u001b[1;32m      3\u001b[0m \u001b[0;34m\u001b[0m\u001b[0m\n\u001b[0;32m----> 4\u001b[0;31m \u001b[0mb\u001b[0m \u001b[0;34m=\u001b[0m \u001b[0ma\u001b[0m \u001b[0;34m*\u001b[0m \u001b[0mtorch\u001b[0m\u001b[0;34m.\u001b[0m\u001b[0mrand\u001b[0m\u001b[0;34m(\u001b[0m\u001b[0;36m4\u001b[0m\u001b[0;34m,\u001b[0m \u001b[0;36m3\u001b[0m\u001b[0;34m)\u001b[0m    \u001b[0;31m# dimensions must match last-to-first\u001b[0m\u001b[0;34m\u001b[0m\u001b[0;34m\u001b[0m\u001b[0m\n\u001b[0m\u001b[1;32m      5\u001b[0m \u001b[0;34m\u001b[0m\u001b[0m\n\u001b[1;32m      6\u001b[0m \u001b[0mc\u001b[0m \u001b[0;34m=\u001b[0m \u001b[0ma\u001b[0m \u001b[0;34m*\u001b[0m \u001b[0mtorch\u001b[0m\u001b[0;34m.\u001b[0m\u001b[0mrand\u001b[0m\u001b[0;34m(\u001b[0m   \u001b[0;36m2\u001b[0m\u001b[0;34m,\u001b[0m \u001b[0;36m3\u001b[0m\u001b[0;34m)\u001b[0m \u001b[0;31m# both 3rd & 2nd dims different\u001b[0m\u001b[0;34m\u001b[0m\u001b[0;34m\u001b[0m\u001b[0m\n",
            "\u001b[0;31mRuntimeError\u001b[0m: The size of tensor a (2) must match the size of tensor b (3) at non-singleton dimension 2"
          ]
        }
      ]
    },
    {
      "cell_type": "code",
      "source": [
        "# Copying tensors\n",
        "# 1. Copying directly means assignment of source tensor to target tensors:\n",
        "a = torch.ones(2, 2)\n",
        "b = a\n",
        "\n",
        "a[0][1] = 561  # we change a...\n",
        "print(b)       # ...and b is also altered\n",
        "print(\"\\n\")\n",
        "\n",
        "\n",
        "# 2. Cloning to copying contents or details of source to target tensor:\n",
        "a = torch.ones(2, 2)\n",
        "b = a.clone()\n",
        "\n",
        "assert b is not a      # different objects in memory...\n",
        "print(torch.eq(a, b))  # ...but still with the same contents!\n",
        "\n",
        "a[0][1] = 561          # a changes...\n",
        "print(b)\n",
        "print(\"\\n\")\n",
        "\n",
        "# Note: If your source tensor has autograd, enabled then so will the clone.\n",
        "\n",
        "# We can resolve it by detaching the tenosr before cloning it to target\n",
        "a = torch.rand(2, 2, requires_grad=True) # turn on autograd\n",
        "print(a)\n",
        "\n",
        "b = a.clone()\n",
        "print(b)\n",
        "\n",
        "c = a.detach().clone()  # The detach() method detaches the tensor from its computation history.\n",
        "print(c)\n",
        "\n",
        "print(a)"
      ],
      "metadata": {
        "colab": {
          "base_uri": "https://localhost:8080/"
        },
        "id": "HPGFoTEHkX0l",
        "outputId": "5a5ef711-93d6-4b66-bb0d-cde737659ffe"
      },
      "execution_count": 9,
      "outputs": [
        {
          "output_type": "stream",
          "name": "stdout",
          "text": [
            "tensor([[  1., 561.],\n",
            "        [  1.,   1.]])\n",
            "\n",
            "\n",
            "tensor([[True, True],\n",
            "        [True, True]])\n",
            "tensor([[1., 1.],\n",
            "        [1., 1.]])\n",
            "\n",
            "\n",
            "tensor([[0.5731, 0.7191],\n",
            "        [0.4067, 0.7301]], requires_grad=True)\n",
            "tensor([[0.5731, 0.7191],\n",
            "        [0.4067, 0.7301]], grad_fn=<CloneBackward0>)\n",
            "tensor([[0.5731, 0.7191],\n",
            "        [0.4067, 0.7301]])\n",
            "tensor([[0.5731, 0.7191],\n",
            "        [0.4067, 0.7301]], requires_grad=True)\n"
          ]
        }
      ]
    },
    {
      "cell_type": "code",
      "source": [
        "# Interoperability with other Python libraries like below.\n",
        "import numpy\n",
        "\n",
        "array = numpy.array([1,2,5])\n",
        "print(array)\n",
        "C = torch.from_numpy(array)\n",
        "print(C)\n",
        "tensor_to_array = C.numpy()\n",
        "print(tensor_to_array)"
      ],
      "metadata": {
        "colab": {
          "base_uri": "https://localhost:8080/"
        },
        "id": "8W2rcOt_a-mY",
        "outputId": "079d583c-4457-4878-a24e-3f928052dbc1"
      },
      "execution_count": 10,
      "outputs": [
        {
          "output_type": "stream",
          "name": "stdout",
          "text": [
            "[1 2 5]\n",
            "tensor([1, 2, 5])\n",
            "[1 2 5]\n"
          ]
        }
      ]
    },
    {
      "cell_type": "code",
      "source": [
        "# Let's explore Basic linear algebra subprogram (BLAS) on these tensors.\n",
        "\n",
        "# 1. Matrix addition: Add the two tensors A and C (with same dimension)\n",
        "AC_sum = torch.add(A, C)\n",
        "print(f'AC_sum: {AC_sum}')\n",
        "\n",
        "#  Matrix subtraction: Subtract tensor C from tensor A.\n",
        "AC_sub = torch.sub(A, C)\n",
        "print(f'AC_sub: {AC_sub}')\n",
        "\n",
        "\n",
        "# Matrix multiplication: Multiply tensor A(1x3) and tensor B(3x3).\n",
        "AB_matmul = torch.matmul( A, B)  # gives output (1x3)\n",
        "AB_mm = torch.mm(A.view(1,3), B)  # needs to converted to matrix shape first\n",
        "print(f'AB_matmul: {AB_matmul}')\n",
        "print(f'AB_mm: {AB_mm}')\n",
        "\n",
        "# Element-wise multiplication: Perform element-wise multiplication between tensor A and tensor C.\n",
        "AC_mul = torch.mul(A, C)\n",
        "print(f'AC_sub: {AC_mul}')\n",
        "\n",
        "\n",
        "print(torch.randint(5,(2,2)))"
      ],
      "metadata": {
        "colab": {
          "base_uri": "https://localhost:8080/"
        },
        "id": "hh7eZ0GR6Ytl",
        "outputId": "ac46040d-0469-45f3-c51f-0cfd5b9577e8"
      },
      "execution_count": 11,
      "outputs": [
        {
          "output_type": "stream",
          "name": "stdout",
          "text": [
            "AC_sum: tensor([2., 4., 8.])\n",
            "AC_sub: tensor([ 0.,  0., -2.])\n",
            "AB_matmul: tensor([30., 24., 18.])\n",
            "AB_mm: tensor([[30., 24., 18.]])\n",
            "AC_sub: tensor([ 1.,  4., 15.])\n",
            "tensor([[4, 4],\n",
            "        [0, 3]])\n"
          ]
        }
      ]
    },
    {
      "cell_type": "markdown",
      "source": [
        "-----------------------------------------------------\n",
        "Here are some **best practices and common errors** to avoid when implementing basic Linear Algebra Subprogram (**BLAS**) operations in PyTorch:\n",
        "\n",
        "* **Use appropriate data types:** Ensure that you use the correct data type for your tensors, such as torch.float32 or torch.int32. Mixing data types without proper conversion can lead to unexpected results and errors.\n",
        "\n",
        "* **Dimensionality:** Make sure that the tensors involved in the operations have compatible shapes. For instance, when performing matrix multiplication, the number of columns in the first matrix should match the number of rows in the second matrix.\n",
        "\n",
        "* **In-place operations:** PyTorch provides in-place versions of operations (e.g., add_(), sub_(), mul_()) that directly modify the input tensor without creating a new one. Use these carefully, as they may lead to unwanted side effects if not managed properly.\n",
        "\n",
        "* **Memory management:** Be aware of memory consumption, especially when working with large tensors. Reusing tensors or performing operations in-place can help reduce memory usage.\n",
        "\n",
        "* **Use GPU acceleration:** PyTorch supports GPU acceleration for tensor operations. To take advantage of this feature, move your tensors to the GPU using the .to() or .cuda() methods.\n",
        "\n",
        "\n",
        "\n",
        "```\n",
        "               device = torch.device(\"cuda:0\" if torch.cuda.is_available() else \"cpu\")\n",
        "               A = A.to(device)\n",
        "               B = B.to(device)\n",
        "               Note: It is important to know that in order to do computation\n",
        "                 involving two or more tensors, all of the tensors must be on the same device.\n",
        "                 Otherwise, the code will throw a runtime error, regardless of\n",
        "                 whether you have a GPU device available\n",
        "```\n",
        "\n",
        "\n",
        "* **Error handling:** When implementing BLAS operations, it’s essential to handle exceptions that may arise due to incompatible tensor shapes or data types. Use the try and except statements to catch and handle errors gracefully."
      ],
      "metadata": {
        "id": "XNBRgGs2fT-g"
      }
    },
    {
      "cell_type": "code",
      "source": [
        "# Implement tensor slicing and indexing\n",
        "# 1. Indexing\n",
        "#    Access specific elements in a tensor using indices, similar to Python lists:\n",
        "element = B[0, 1]  # Access the element at row 0 and column 1\n",
        "print(f'element: {element}')\n",
        "\n",
        "# 2. Slicing\n",
        "#    Slice tensors by specifying a range of indices for each dimension:\n",
        "sub_tensor = B[1:3, 0:2]  # Extracts the sub-tensor from rows 1 to 2 (inclusive)\n",
        "                                # and columns 0 to 1 (inclusive)\n",
        "print(f'sub_tensor: {sub_tensor}')\n",
        "\n",
        "# Advanced Indexing  (similar to filtering in Dataframe)\n",
        "# Use integer tensors or boolean masks for more advanced indexing:\n",
        "mask = B > 5  # Creates a boolean mask where each element is True if the\n",
        "                      # corresponding element in 'tensor' is greater than 5\n",
        "result = B[mask]  # Extracts elements from 'tensor' where the corresponding mask element is True\n",
        "print(f'result: {result}')"
      ],
      "metadata": {
        "colab": {
          "base_uri": "https://localhost:8080/"
        },
        "id": "yamu2vmpfQON",
        "outputId": "19970506-72ea-4e5d-a15a-44c3c025572f"
      },
      "execution_count": 12,
      "outputs": [
        {
          "output_type": "stream",
          "name": "stdout",
          "text": [
            "element: 8.0\n",
            "sub_tensor: tensor([[6., 5.],\n",
            "        [3., 2.]])\n",
            "result: tensor([9., 8., 7., 6.])\n"
          ]
        }
      ]
    },
    {
      "cell_type": "markdown",
      "source": [
        "----------------------------------------------------------\n",
        "When working with **tensor slicing and indexing** in PyTorch, consider the following best practices and common errors:\n",
        "\n",
        "* **Remember zero-indexing:** In Python and PyTorch, indices start from 0, not 1. Ensure you are using the correct index when accessing tensor elements.\n",
        "\n",
        "* **Understand slicing ranges:** When slicing, the start index is inclusive, while the end index is exclusive. For example, tensor[0:2] will include elements at indices 0 and 1, but not 2.\n",
        "\n",
        "* **Preserve dimensions:** When slicing a single row or column, the resulting tensor may have reduced dimensions. To preserve dimensions, use a slice instead of a single index: tensor[1:2, :] instead of tensor[1, :].\n",
        "\n",
        "* **Avoid in-place operations:** In-place operations, such as **tensor[0, 1] += 1**, can cause issues with PyTorch’s gradient computation. Use tensor = tensor + 1 or **tensor.add_(1)** for safer alternatives.\n",
        "\n",
        "* **Use advanced indexing cautiously:** Advanced indexing with integer tensors or boolean masks can be powerful but may also introduce complexity and performance overhead. Use simple indexing and slicing when possible, and only resort to advanced techniques when necessary.\n",
        "\n",
        "* **Ensure correct index data types:** When using integer tensors for advanced indexing, ensure the data type is torch.long or torch.int64. Other data types may cause unexpected behavior."
      ],
      "metadata": {
        "id": "rqdcR9LJjdku"
      }
    },
    {
      "cell_type": "code",
      "source": [
        "# Derivatives\n",
        "# A tensor can be created with requires_grad=True so that torch.autograd records\n",
        "# operations on them for automatic differentiation\n",
        "\n",
        "x = torch.tensor(2.0, requires_grad = True)   # tensor with which derivative will be taken\n",
        "print(\"x: \", x)\n",
        "y = x ** 2\n",
        "\n",
        "y.backward()  # derivative of y is calculated with respect to x  => 2*x\n",
        "\n",
        "result = x.grad\n",
        "print(f'result: {result}')"
      ],
      "metadata": {
        "colab": {
          "base_uri": "https://localhost:8080/"
        },
        "id": "jax38hGV6sUl",
        "outputId": "51b87564-19c0-4632-fe60-5cf0226d374a"
      },
      "execution_count": 13,
      "outputs": [
        {
          "output_type": "stream",
          "name": "stdout",
          "text": [
            "x:  tensor(2., requires_grad=True)\n",
            "result: 4.0\n"
          ]
        }
      ]
    },
    {
      "cell_type": "code",
      "source": [
        "\"\"\"\n",
        "\n",
        "Behind the scenes, pytorch calculates derivatives by creating a backwards graph.\n",
        "It is a particular type of graph in which the tensors and the backwards functions\n",
        "are the nodes in the graph.\n",
        "\n",
        "Based upon whether a particular tensor is a leaf or not in the graph, pytorch\n",
        "evaluates the derivative of that tensor. If the leaf attribute for a tensor is set\n",
        "to True, pytorch won’t evaluate its derivative.\n",
        "\n",
        "Thus, leaf attribute of graph does not have grad function.\n",
        "\n",
        "\"\"\"\n",
        "\n",
        "# The power of autograd comes from the fact that it traces your computation dynamically\n",
        "# at runtime, meaning that if your model has decision branches, or loops whose lengths\n",
        "# are not known until runtime, the computation will still be traced correctly, and\n",
        "# you’ll get correct gradients to drive learning.\n",
        "\n",
        "print(\" For x\")\n",
        "print('data:',x.data)\n",
        "print('grad_fn:',x.grad_fn)\n",
        "print('grad:',x.grad)\n",
        "print(\"x is_leaf:\",x.is_leaf) # derivative not calculated\n",
        "print(\"requires_grad:\",x.requires_grad)\n",
        "print(\"\\n\")\n",
        "\n",
        "print(\"For y\")\n",
        "print('data:',y.data)\n",
        "print('grad_fn:',y.grad_fn)\n",
        "print('grad:',y.grad)\n",
        "print(\"is_leaf:\",y.is_leaf)\n",
        "print(\"requires_grad:\",y.requires_grad)\n",
        "\n",
        "# Note: In particular, the gradients over the learning weights are of interest to us -\n",
        "# they tell us what direction to change each weight to get the loss function closer to zero."
      ],
      "metadata": {
        "colab": {
          "base_uri": "https://localhost:8080/"
        },
        "id": "GSkNriCt2F_H",
        "outputId": "940cdcf3-17ee-4786-8606-0ac385dd5db1"
      },
      "execution_count": 14,
      "outputs": [
        {
          "output_type": "stream",
          "name": "stdout",
          "text": [
            " For x\n",
            "data: tensor(2.)\n",
            "grad_fn: None\n",
            "grad: tensor(4.)\n",
            "x is_leaf: True\n",
            "requires_grad: True\n",
            "\n",
            "\n",
            "For y\n",
            "data: tensor(4.)\n",
            "grad_fn: <PowBackward0 object at 0x7ed648ef0bb0>\n",
            "grad: None\n",
            "is_leaf: False\n",
            "requires_grad: True\n"
          ]
        },
        {
          "output_type": "stream",
          "name": "stderr",
          "text": [
            "<ipython-input-14-44dc6728f74c>:31: UserWarning: The .grad attribute of a Tensor that is not a leaf Tensor is being accessed. Its .grad attribute won't be populated during autograd.backward(). If you indeed want the .grad field to be populated for a non-leaf Tensor, use .retain_grad() on the non-leaf Tensor. If you access the non-leaf Tensor by mistake, make sure you access the leaf Tensor instead. See github.com/pytorch/pytorch/pull/30531 for more informations. (Triggered internally at aten/src/ATen/core/TensorBody.h:486.)\n",
            "  print('grad:',y.grad)\n"
          ]
        }
      ]
    },
    {
      "cell_type": "code",
      "source": [
        "# Partial Derivatives\n",
        "# Here we have a function of two variables or more variables. We will use\n",
        "# rule of derivative to calculate partial derivative\n",
        "\n",
        "u = torch.tensor(2.0, requires_grad = True)   # tensor with which derivative will be taken\n",
        "v = torch.tensor(3.0, requires_grad = True)   # tensor with which derivative will be taken\n",
        "\n",
        "py = u**2 + 2*u*v + v**2 + u + 3*v + 1\n",
        "\n",
        "# When you call .backward() on a tensor with no arguments, it expects the calling\n",
        "# tensor to contain only a single element.\n",
        "py.backward()   # partial derivative is calculated. w.r.t u => 2*u + 2*v + 1\n",
        "                                           # w.r.t v  => 2*u + 2*v + 3\n",
        "\n",
        "u_result = u.grad\n",
        "v_result = v.grad\n",
        "\n",
        "# Autograd tracks the history of every computation. Every computed tensor in your\n",
        "# PyTorch model carries a history of its input tensors and the function used to create it.\n",
        "print(\"output py: \", py)\n",
        "\n",
        "print(\"u_result: \", u_result)\n",
        "print(\"v_result: \", v_result)\n",
        "\n",
        "# Each grad_fn stored with our tensors allows you to walk the computation all\n",
        "# the way back to its inputs with its next_functions property.\n",
        "print(\"go backward to find previous grad_function: \", py.grad_fn.next_functions)\n",
        "print(\"go backward to find previous grad_function: \", py.grad_fn.next_functions[0][0].next_functions)"
      ],
      "metadata": {
        "colab": {
          "base_uri": "https://localhost:8080/"
        },
        "id": "7DzCZHSH6y8c",
        "outputId": "3051631a-9edc-48b1-b5d2-6ab6d2c9250e"
      },
      "execution_count": 15,
      "outputs": [
        {
          "output_type": "stream",
          "name": "stdout",
          "text": [
            "output py:  tensor(37., grad_fn=<AddBackward0>)\n",
            "u_result:  tensor(11.)\n",
            "v_result:  tensor(13.)\n",
            "go backward to find previous grad_function:  ((<AddBackward0 object at 0x7ed648ef02b0>, 0), (None, 0))\n",
            "go backward to find previous grad_function:  ((<AddBackward0 object at 0x7ed648ef3f10>, 0), (<MulBackward0 object at 0x7ed648ef32b0>, 0))\n"
          ]
        }
      ]
    },
    {
      "cell_type": "code",
      "source": [
        "# Custom derivative function class by subclassing torch.autograd.Function and\n",
        "# implementing the forward and backward passes\n",
        "\n",
        "class SQ(torch.autograd.Function):\n",
        "\n",
        "\n",
        "    @staticmethod\n",
        "    def forward(ctx,i):\n",
        "        \"\"\"\n",
        "        In the forward pass we receive a Tensor containing the input and return\n",
        "        a Tensor containing the output. ctx is a context object that can be used\n",
        "        to stash information for backward computation. You can cache arbitrary\n",
        "        objects for use in the backward pass using the ctx.save_for_backward method.\n",
        "        \"\"\"\n",
        "        result=i**2   # fixed derivative function\n",
        "        ctx.save_for_backward(i)  # caching objects in context\n",
        "        return result\n",
        "\n",
        "    @staticmethod\n",
        "    def backward(ctx, grad_output):\n",
        "        \"\"\"\n",
        "        In the backward pass we receive a Tensor containing the gradient of the loss\n",
        "        with respect to the output, and we need to compute the gradient of the loss\n",
        "        with respect to the input.\n",
        "        \"\"\"\n",
        "        i, = ctx.saved_tensors\n",
        "        grad_output = 2*i\n",
        "        return grad_output"
      ],
      "metadata": {
        "id": "b_VElNBo62vV"
      },
      "execution_count": 16,
      "outputs": []
    },
    {
      "cell_type": "code",
      "source": [
        "sq=SQ.apply\n",
        "\n",
        "custom_fun = sq(x)\n",
        "custom_fun.backward()\n",
        "\n",
        "print(x.grad)"
      ],
      "metadata": {
        "colab": {
          "base_uri": "https://localhost:8080/"
        },
        "id": "xZYoQpfI67KU",
        "outputId": "41368b6d-2461-4be8-df0c-f31435596a3a"
      },
      "execution_count": 17,
      "outputs": [
        {
          "output_type": "stream",
          "name": "stdout",
          "text": [
            "tensor(8.)\n"
          ]
        }
      ]
    },
    {
      "cell_type": "code",
      "source": [
        "# Calculate the derivative with multiple values\n",
        "import matplotlib.pyplot as plt\n",
        "\n",
        "x_lin = torch.linspace(-10, 10, 10, requires_grad = True)\n",
        "Ym = x_lin ** 2\n",
        "ym = torch.sum(x_lin ** 2)\n",
        "\n",
        "ym.backward()  # Autograd derivative only works on scalar value (not on multi dimensional)\n",
        "\n",
        "plt.plot(x_lin.detach().numpy(), Ym.detach().numpy(), label = 'function')\n",
        "plt.plot(x_lin.detach().numpy(), x_lin.grad.detach().numpy(), label = 'derivative')\n",
        "\"\"\"\n",
        "The method detach() excludes further tracking of operations in the graph, and the subgraph\n",
        "will not record operations. This allows us to then convert the tensor to a numpy array.\n",
        "\"\"\"\n",
        "plt.xlabel('x')\n",
        "plt.legend()\n",
        "plt.show()"
      ],
      "metadata": {
        "colab": {
          "base_uri": "https://localhost:8080/",
          "height": 449
        },
        "id": "WWqygrul8L_F",
        "outputId": "8bd76c90-9269-4c6d-dc94-924a7a3490ae"
      },
      "execution_count": 18,
      "outputs": [
        {
          "output_type": "display_data",
          "data": {
            "text/plain": [
              "<Figure size 640x480 with 1 Axes>"
            ],
            "image/png": "[encoded data removed]"
          },
          "metadata": {}
        }
      ]
    },
    {
      "cell_type": "code",
      "source": [
        "# Autograd for Neural Network models:\n",
        "\n",
        "# Within a subclass of torch.nn.Module, it’s assumed that we want to track gradients on\n",
        "# the layers’ weights for learning. Therefore, we never specify requires_grad=True for the model’s layers.\n",
        "\n",
        "\n",
        "# The optimizer is responsible for updating model weights based on the computed gradients.\n",
        "# optimizer.step()\n",
        "\n",
        "\"\"\"\n",
        "One important thing about the process: After calling optimizer.step(), you need to\n",
        "call optimizer.zero_grad(), or else every time you run loss.backward(), the gradients on\n",
        "the learning weights will accumulate and cause  incorrect and unpredictable learning results.\n",
        "\"\"\"\n",
        "\n",
        "# If we only need autograd turned off temporarily, a better way is to use the torch.no_grad().\n",
        "a = torch.ones(2, 3, requires_grad=True) * 2\n",
        "b = torch.ones(2, 3, requires_grad=True) * 3\n",
        "\n",
        "@torch.no_grad()\n",
        "def add_tensors2(x, y):\n",
        "  return x + y\n",
        "\n",
        "c1 = a + b\n",
        "print(\"c1: \", c1)\n",
        "\n",
        "with torch.no_grad():\n",
        "  c2 = a + b\n",
        "\n",
        "print(\"c2: \", c2)\n",
        "\n",
        "print(\"With decorator: \", add_tensors2(a, b))\n",
        "\n",
        "c3 = a * b\n",
        "print(\"c3: \", c3)"
      ],
      "metadata": {
        "colab": {
          "base_uri": "https://localhost:8080/"
        },
        "id": "_SFnexoJ3Ofb",
        "outputId": "fa3f1364-77af-4dcd-da2a-057320de8693"
      },
      "execution_count": 19,
      "outputs": [
        {
          "output_type": "stream",
          "name": "stdout",
          "text": [
            "c1:  tensor([[5., 5., 5.],\n",
            "        [5., 5., 5.]], grad_fn=<AddBackward0>)\n",
            "c2:  tensor([[5., 5., 5.],\n",
            "        [5., 5., 5.]])\n",
            "With decorator:  tensor([[5., 5., 5.],\n",
            "        [5., 5., 5.]])\n",
            "c3:  tensor([[6., 6., 6.],\n",
            "        [6., 6., 6.]], grad_fn=<MulBackward0>)\n"
          ]
        }
      ]
    },
    {
      "cell_type": "code",
      "source": [
        "# Autograd Profiler\n",
        "\"\"\"\n",
        "Autograd tracks every step of your computation in detail. Such a computation history,\n",
        "combined with timing information, would make a handy profiler - and\n",
        "autograd has that feature baked in.\n",
        "\"\"\"\n",
        "\n",
        "device = torch.device('cpu')\n",
        "run_on_gpu = False\n",
        "if torch.cuda.is_available():\n",
        "  device = torch.device('gpu')\n",
        "  run_on_gpu = True\n",
        "\n",
        "x = torch.randn(1, 3, requires_grad=True)\n",
        "y = torch.rand(1, 3, requires_grad=True)\n",
        "z = torch.ones(1, 3, requires_grad=True)\n",
        "\n",
        "with torch.autograd.profiler.profile(use_cuda=run_on_gpu) as prf:\n",
        "  for _ in range(1000):\n",
        "    z = (z / x) * y\n",
        "\n",
        "print(prf.key_averages().table(sort_by='self_cpu_time_total'))"
      ],
      "metadata": {
        "colab": {
          "base_uri": "https://localhost:8080/"
        },
        "id": "aLSdJqPx4_vV",
        "outputId": "90263ab9-dc6b-4d1b-86c7-02a81088eba9"
      },
      "execution_count": 20,
      "outputs": [
        {
          "output_type": "stream",
          "name": "stdout",
          "text": [
            "-------------  ------------  ------------  ------------  ------------  ------------  ------------  \n",
            "         Name    Self CPU %      Self CPU   CPU total %     CPU total  CPU time avg    # of Calls  \n",
            "-------------  ------------  ------------  ------------  ------------  ------------  ------------  \n",
            "    aten::div        51.92%      12.772ms        51.92%      12.772ms      12.772us          1000  \n",
            "    aten::mul        48.08%      11.829ms        48.08%      11.829ms      11.829us          1000  \n",
            "-------------  ------------  ------------  ------------  ------------  ------------  ------------  \n",
            "Self CPU time total: 24.601ms\n",
            "\n"
          ]
        }
      ]
    },
    {
      "cell_type": "code",
      "source": [
        "# Advanced Topic: More Autograd Detail and the High-Level API\n",
        "\"\"\"\n",
        "Since Autograd we calculated above was only for scalar output function.\n",
        "\"\"\"\n",
        "# If you have a function with an n-dimensional input and m-dimensional output,\n",
        "# y = F(x), the complete gradient is a matrix of the derivative of every output\n",
        "# with respect to every input, called the Jacobian.\n",
        "\"\"\"\n",
        "Refer here: https://pytorch.org/tutorials/beginner/introyt/autogradyt_tutorial.html\n",
        "\"\"\"\n",
        "x = torch.randn(3, requires_grad=True)\n",
        "\n",
        "y = x * 2\n",
        "print(y)\n",
        "# y.backward() , It won't work here.\n",
        "\n",
        "# For a multi-dimensional output, autograd expects us to provide gradients for\n",
        "# those three outputs that it can multiply into the Jacobian\n",
        "v = torch.tensor([0.1, 1.0, 0.0001], dtype=torch.float) # stand-in for gradients\n",
        "\n",
        "y.backward(v)\n",
        "\n",
        "print(x.grad)\n",
        "print(\"\\n\")\n",
        "\n",
        "\n",
        "\n",
        "# Similarily, we can use Jacobian in-built methods for such computations.\n",
        "def exp_adder(x, y):\n",
        "    return 2 * x.exp() + 3 * y\n",
        "\n",
        "inputs = (torch.rand(2), torch.rand(2)) # arguments for the function\n",
        "print(inputs)\n",
        "torch.autograd.functional.jacobian(exp_adder, inputs)"
      ],
      "metadata": {
        "colab": {
          "base_uri": "https://localhost:8080/"
        },
        "id": "MPBbvIiR8uYc",
        "outputId": "421d270f-fa1a-48ad-b1d7-c39bccce48f8"
      },
      "execution_count": 21,
      "outputs": [
        {
          "output_type": "stream",
          "name": "stdout",
          "text": [
            "tensor([-1.9119, -1.0408, -1.5046], grad_fn=<MulBackward0>)\n",
            "tensor([2.0000e-01, 2.0000e+00, 2.0000e-04])\n",
            "\n",
            "\n",
            "(tensor([0.1332, 0.0023]), tensor([0.4945, 0.3857]))\n"
          ]
        },
        {
          "output_type": "execute_result",
          "data": {
            "text/plain": [
              "(tensor([[2.2849, 0.0000],\n",
              "         [0.0000, 2.0045]]),\n",
              " tensor([[3., 0.],\n",
              "         [0., 3.]]))"
            ]
          },
          "metadata": {},
          "execution_count": 21
        }
      ]
    },
    {
      "cell_type": "code",
      "source": [
        "# Similarily, We can provide v vector, along with input while computing gradient using Jacobian\n",
        "# There is also a function to directly compute the vector-Jacobian product, if you provide the vector\n",
        "def do_some_doubling(x):\n",
        "    y = x * 2\n",
        "    while y.data.norm() < 1000:\n",
        "        y = y * 2\n",
        "    return y\n",
        "\n",
        "inputs = torch.randn(3)\n",
        "my_gradients = torch.tensor([0.1, 1.0, 0.0001])\n",
        "torch.autograd.functional.vjp(do_some_doubling, inputs, v=my_gradients)"
      ],
      "metadata": {
        "colab": {
          "base_uri": "https://localhost:8080/"
        },
        "id": "OXvwwnJJ-PQO",
        "outputId": "c926474f-c282-4bd4-8e68-905a0bef5331"
      },
      "execution_count": 22,
      "outputs": [
        {
          "output_type": "execute_result",
          "data": {
            "text/plain": [
              "(tensor([ 1515.3389, -1006.8062,   241.5969]),\n",
              " tensor([1.0240e+02, 1.0240e+03, 1.0240e-01]))"
            ]
          },
          "metadata": {},
          "execution_count": 22
        }
      ]
    },
    {
      "cell_type": "code",
      "source": [
        "from logging import raiseExceptions\n",
        "# Creating custom Dataset Class by extending PyTorch Dataset to generate dataset.\n",
        "# Also, It can handle the transform of the generated dataset\n",
        "\n",
        "from torch.utils.data import Dataset  # Dataset class\n",
        "torch.manual_seed(1)  # setting seed value\n",
        "\n",
        "class get_Dataset(Dataset):\n",
        "\n",
        "  def __init__(self, length = 100, transform = None) -> None:\n",
        "    super().__init__()\n",
        "    self.x = torch.ones(size=(length, 3))\n",
        "    self.y = torch.ones(size=(length, 1))\n",
        "    self.len = length\n",
        "    self.transform = transform\n",
        "\n",
        "  def __getitem__(self, index):\n",
        "    if(index < self.len):\n",
        "      sample = (self.x[index], self.y[index])\n",
        "      if self.transform:\n",
        "        sample = self.transform(sample)\n",
        "      return sample\n",
        "    else :\n",
        "      raise Exception(\"Index out of bound requested\")\n",
        "\n",
        "  def __len__(self):\n",
        "    return self.len\n",
        "\n"
      ],
      "metadata": {
        "id": "FLNpIUOtwPgU"
      },
      "execution_count": 23,
      "outputs": []
    },
    {
      "cell_type": "code",
      "source": [
        "#Let's create custom Dataset Object.\n",
        "\n",
        "custom_dataset = get_Dataset()\n",
        "print(\"custom dataset: \", custom_dataset)\n",
        "print(\"length :\", custom_dataset.len)\n",
        "print(\"value at index 2: \", custom_dataset[2])\n",
        "\n",
        "# Dataset object is also an Iterable.\n",
        "# get the data of dataset while Iterating over it\n",
        "for xi, yi in custom_dataset:\n",
        "  print(f'x : {xi}, y: {yi}')\n",
        "  break\n",
        "\n"
      ],
      "metadata": {
        "colab": {
          "base_uri": "https://localhost:8080/"
        },
        "id": "Lw8MLTm80L7Q",
        "outputId": "149c02fa-572a-40f5-aa0a-1734383bae98"
      },
      "execution_count": 24,
      "outputs": [
        {
          "output_type": "stream",
          "name": "stdout",
          "text": [
            "custom dataset:  <__main__.get_Dataset object at 0x7ed574a97010>\n",
            "length : 100\n",
            "value at index 2:  (tensor([1., 1., 1.]), tensor([1.]))\n",
            "x : tensor([1., 1., 1.]), y: tensor([1.])\n"
          ]
        }
      ]
    },
    {
      "cell_type": "code",
      "source": [
        "# Lets add Transform function while creating dataset.\n",
        "# Lets create callable transform class\n",
        "\n",
        "class simple_transform_one(object):\n",
        "\n",
        "  def __init__(self, x_transform=2, y_transform = 3):\n",
        "    self.xf = x_transform\n",
        "    self.yf = y_transform\n",
        "\n",
        "  def __call__(self, data):\n",
        "    x = data[0]\n",
        "    y = data[1]\n",
        "\n",
        "    x = x*self.xf + 1\n",
        "    y = y*self.yf\n",
        "    sample = x, y\n",
        "    return sample"
      ],
      "metadata": {
        "id": "UUseRigswcfM"
      },
      "execution_count": 25,
      "outputs": []
    },
    {
      "cell_type": "code",
      "source": [
        "transform_obj = simple_transform_one(x_transform=0.5) # creating transform callable object\n",
        "t_custom_dataset = get_Dataset(transform=transform_obj) # passing transform object\n",
        "print(\"value at index 2: \", t_custom_dataset[2])\n",
        "print(\"directly transforming value at index 2: \", transform_obj(custom_dataset[2]))"
      ],
      "metadata": {
        "colab": {
          "base_uri": "https://localhost:8080/"
        },
        "id": "kSr4FOlz09Dt",
        "outputId": "64f212e3-d634-4c41-ea4b-770eb0d649b6"
      },
      "execution_count": 26,
      "outputs": [
        {
          "output_type": "stream",
          "name": "stdout",
          "text": [
            "value at index 2:  (tensor([1.5000, 1.5000, 1.5000]), tensor([3.]))\n",
            "directly transforming value at index 2:  (tensor([1.5000, 1.5000, 1.5000]), tensor([3.]))\n"
          ]
        }
      ]
    },
    {
      "cell_type": "code",
      "source": [
        "# Composing multiple transform functions as a pipeline for dataset\n",
        "\n",
        "# Run the command below when you do not have torchvision installed\n",
        "#!mamba install -y torchvision\n",
        "\n",
        "from torchvision import transforms"
      ],
      "metadata": {
        "id": "Tgk20noV33dq"
      },
      "execution_count": 27,
      "outputs": []
    },
    {
      "cell_type": "code",
      "source": [
        "class simple_transform_two(object):\n",
        "\n",
        "  def __init__(self, x_transform=2, y_transform = 3):\n",
        "    self.xf = x_transform\n",
        "    self.yf = y_transform\n",
        "\n",
        "  def __call__(self, data):\n",
        "    x = data[0]\n",
        "    y = data[1]\n",
        "\n",
        "    x = x*self.xf + x*2 + 1\n",
        "    y = y*self.yf + 1\n",
        "    sample = x, y\n",
        "    return sample"
      ],
      "metadata": {
        "id": "0QbsDaxc5DHQ"
      },
      "execution_count": 28,
      "outputs": []
    },
    {
      "cell_type": "code",
      "source": [
        "# Composing the transform functions into a list form and passing it at once\n",
        "data_transform = transforms.Compose([simple_transform_one(), simple_transform_two()])\n",
        "print(\"The combination of transforms (Compose): \", data_transform)\n",
        "\n",
        "multiTransform_dataset = get_Dataset(transform=data_transform)\n",
        "print(\"value at index 2: \", multiTransform_dataset[2])"
      ],
      "metadata": {
        "colab": {
          "base_uri": "https://localhost:8080/"
        },
        "id": "MGj3ZnRd5d51",
        "outputId": "778e8ce1-c1ce-4189-b281-287ce8f149df"
      },
      "execution_count": 29,
      "outputs": [
        {
          "output_type": "stream",
          "name": "stdout",
          "text": [
            "The combination of transforms (Compose):  Compose(\n",
            "    <__main__.simple_transform_one object at 0x7ed572cbdba0>\n",
            "    <__main__.simple_transform_two object at 0x7ed572cbd8a0>\n",
            ")\n",
            "value at index 2:  (tensor([13., 13., 13.]), tensor([10.]))\n"
          ]
        }
      ]
    },
    {
      "cell_type": "code",
      "source": [
        "# Creating Dataset class which will fetch data from local storage\n",
        "# Let's consider image data (containing images of animals with its class) are\n",
        "# stored in the local storage in csv format.\n",
        "from torch.utils.data import Dataset, DataLoader\n",
        "from PIL import Image\n",
        "import pandas as pd\n",
        "import os\n",
        "\n",
        "\"\"\"\n",
        "SL No. |  class name    |  image name\n",
        " 1     |  dog           | /dataset/train/image_001\n",
        " 2     |  cat           | /dataset/train/image_002\n",
        " 3     |  rat           | /dataset/train/image_003\n",
        " 4     |  dog           | /dataset/train/image_004\n",
        "\n",
        "\"\"\"\n",
        "# csv path for stored dataset in local drive\n",
        "dir = \"\"\n",
        "csv_file ='index.csv'  #csv file name\n",
        "csv_path = os.path.join(dir, csv_file)\n",
        "data_name = pd.read_csv(csv_path)  # reading data from csv file\n",
        "\n",
        "# 'File name : data_name.iloc[1, 1]   , [row, column]\n",
        "# 'class name: data_name.iloc[1, 0]\n",
        "\n",
        "# thus, image path can be found as:\n",
        "image_path = os.path.join(dir, data_name.iloc[1, 1])"
      ],
      "metadata": {
        "id": "OnQjam846C63",
        "colab": {
          "base_uri": "https://localhost:8080/",
          "height": 391
        },
        "outputId": "d5ad55c9-0a39-4aba-a0c1-3e48702f8852"
      },
      "execution_count": 30,
      "outputs": [
        {
          "output_type": "error",
          "ename": "FileNotFoundError",
          "evalue": "ignored",
          "traceback": [
            "\u001b[0;31m---------------------------------------------------------------------------\u001b[0m",
            "\u001b[0;31mFileNotFoundError\u001b[0m                         Traceback (most recent call last)",
            "\u001b[0;32m<ipython-input-30-7989b925a2ad>\u001b[0m in \u001b[0;36m<cell line: 21>\u001b[0;34m()\u001b[0m\n\u001b[1;32m     19\u001b[0m \u001b[0mcsv_file\u001b[0m \u001b[0;34m=\u001b[0m\u001b[0;34m'index.csv'\u001b[0m  \u001b[0;31m#csv file name\u001b[0m\u001b[0;34m\u001b[0m\u001b[0;34m\u001b[0m\u001b[0m\n\u001b[1;32m     20\u001b[0m \u001b[0mcsv_path\u001b[0m \u001b[0;34m=\u001b[0m \u001b[0mos\u001b[0m\u001b[0;34m.\u001b[0m\u001b[0mpath\u001b[0m\u001b[0;34m.\u001b[0m\u001b[0mjoin\u001b[0m\u001b[0;34m(\u001b[0m\u001b[0mdir\u001b[0m\u001b[0;34m,\u001b[0m \u001b[0mcsv_file\u001b[0m\u001b[0;34m)\u001b[0m\u001b[0;34m\u001b[0m\u001b[0;34m\u001b[0m\u001b[0m\n\u001b[0;32m---> 21\u001b[0;31m \u001b[0mdata_name\u001b[0m \u001b[0;34m=\u001b[0m \u001b[0mpd\u001b[0m\u001b[0;34m.\u001b[0m\u001b[0mread_csv\u001b[0m\u001b[0;34m(\u001b[0m\u001b[0mcsv_path\u001b[0m\u001b[0;34m)\u001b[0m  \u001b[0;31m# reading data from csv file\u001b[0m\u001b[0;34m\u001b[0m\u001b[0;34m\u001b[0m\u001b[0m\n\u001b[0m\u001b[1;32m     22\u001b[0m \u001b[0;34m\u001b[0m\u001b[0m\n\u001b[1;32m     23\u001b[0m \u001b[0;31m# 'File name : data_name.iloc[1, 1]   , [row, column]\u001b[0m\u001b[0;34m\u001b[0m\u001b[0;34m\u001b[0m\u001b[0m\n",
            "\u001b[0;32m/usr/local/lib/python3.10/dist-packages/pandas/util/_decorators.py\u001b[0m in \u001b[0;36mwrapper\u001b[0;34m(*args, **kwargs)\u001b[0m\n\u001b[1;32m    209\u001b[0m                 \u001b[0;32melse\u001b[0m\u001b[0;34m:\u001b[0m\u001b[0;34m\u001b[0m\u001b[0;34m\u001b[0m\u001b[0m\n\u001b[1;32m    210\u001b[0m                     \u001b[0mkwargs\u001b[0m\u001b[0;34m[\u001b[0m\u001b[0mnew_arg_name\u001b[0m\u001b[0;34m]\u001b[0m \u001b[0;34m=\u001b[0m \u001b[0mnew_arg_value\u001b[0m\u001b[0;34m\u001b[0m\u001b[0;34m\u001b[0m\u001b[0m\n\u001b[0;32m--> 211\u001b[0;31m             \u001b[0;32mreturn\u001b[0m \u001b[0mfunc\u001b[0m\u001b[0;34m(\u001b[0m\u001b[0;34m*\u001b[0m\u001b[0margs\u001b[0m\u001b[0;34m,\u001b[0m \u001b[0;34m**\u001b[0m\u001b[0mkwargs\u001b[0m\u001b[0;34m)\u001b[0m\u001b[0;34m\u001b[0m\u001b[0;34m\u001b[0m\u001b[0m\n\u001b[0m\u001b[1;32m    212\u001b[0m \u001b[0;34m\u001b[0m\u001b[0m\n\u001b[1;32m    213\u001b[0m         \u001b[0;32mreturn\u001b[0m \u001b[0mcast\u001b[0m\u001b[0;34m(\u001b[0m\u001b[0mF\u001b[0m\u001b[0;34m,\u001b[0m \u001b[0mwrapper\u001b[0m\u001b[0;34m)\u001b[0m\u001b[0;34m\u001b[0m\u001b[0;34m\u001b[0m\u001b[0m\n",
            "\u001b[0;32m/usr/local/lib/python3.10/dist-packages/pandas/util/_decorators.py\u001b[0m in \u001b[0;36mwrapper\u001b[0;34m(*args, **kwargs)\u001b[0m\n\u001b[1;32m    329\u001b[0m                     \u001b[0mstacklevel\u001b[0m\u001b[0;34m=\u001b[0m\u001b[0mfind_stack_level\u001b[0m\u001b[0;34m(\u001b[0m\u001b[0;34m)\u001b[0m\u001b[0;34m,\u001b[0m\u001b[0;34m\u001b[0m\u001b[0;34m\u001b[0m\u001b[0m\n\u001b[1;32m    330\u001b[0m                 )\n\u001b[0;32m--> 331\u001b[0;31m             \u001b[0;32mreturn\u001b[0m \u001b[0mfunc\u001b[0m\u001b[0;34m(\u001b[0m\u001b[0;34m*\u001b[0m\u001b[0margs\u001b[0m\u001b[0;34m,\u001b[0m \u001b[0;34m**\u001b[0m\u001b[0mkwargs\u001b[0m\u001b[0;34m)\u001b[0m\u001b[0;34m\u001b[0m\u001b[0;34m\u001b[0m\u001b[0m\n\u001b[0m\u001b[1;32m    332\u001b[0m \u001b[0;34m\u001b[0m\u001b[0m\n\u001b[1;32m    333\u001b[0m         \u001b[0;31m# error: \"Callable[[VarArg(Any), KwArg(Any)], Any]\" has no\u001b[0m\u001b[0;34m\u001b[0m\u001b[0;34m\u001b[0m\u001b[0m\n",
            "\u001b[0;32m/usr/local/lib/python3.10/dist-packages/pandas/io/parsers/readers.py\u001b[0m in \u001b[0;36mread_csv\u001b[0;34m(filepath_or_buffer, sep, delimiter, header, names, index_col, usecols, squeeze, prefix, mangle_dupe_cols, dtype, engine, converters, true_values, false_values, skipinitialspace, skiprows, skipfooter, nrows, na_values, keep_default_na, na_filter, verbose, skip_blank_lines, parse_dates, infer_datetime_format, keep_date_col, date_parser, dayfirst, cache_dates, iterator, chunksize, compression, thousands, decimal, lineterminator, quotechar, quoting, doublequote, escapechar, comment, encoding, encoding_errors, dialect, error_bad_lines, warn_bad_lines, on_bad_lines, delim_whitespace, low_memory, memory_map, float_precision, storage_options)\u001b[0m\n\u001b[1;32m    948\u001b[0m     \u001b[0mkwds\u001b[0m\u001b[0;34m.\u001b[0m\u001b[0mupdate\u001b[0m\u001b[0;34m(\u001b[0m\u001b[0mkwds_defaults\u001b[0m\u001b[0;34m)\u001b[0m\u001b[0;34m\u001b[0m\u001b[0;34m\u001b[0m\u001b[0m\n\u001b[1;32m    949\u001b[0m \u001b[0;34m\u001b[0m\u001b[0m\n\u001b[0;32m--> 950\u001b[0;31m     \u001b[0;32mreturn\u001b[0m \u001b[0m_read\u001b[0m\u001b[0;34m(\u001b[0m\u001b[0mfilepath_or_buffer\u001b[0m\u001b[0;34m,\u001b[0m \u001b[0mkwds\u001b[0m\u001b[0;34m)\u001b[0m\u001b[0;34m\u001b[0m\u001b[0;34m\u001b[0m\u001b[0m\n\u001b[0m\u001b[1;32m    951\u001b[0m \u001b[0;34m\u001b[0m\u001b[0m\n\u001b[1;32m    952\u001b[0m \u001b[0;34m\u001b[0m\u001b[0m\n",
            "\u001b[0;32m/usr/local/lib/python3.10/dist-packages/pandas/io/parsers/readers.py\u001b[0m in \u001b[0;36m_read\u001b[0;34m(filepath_or_buffer, kwds)\u001b[0m\n\u001b[1;32m    603\u001b[0m \u001b[0;34m\u001b[0m\u001b[0m\n\u001b[1;32m    604\u001b[0m     \u001b[0;31m# Create the parser.\u001b[0m\u001b[0;34m\u001b[0m\u001b[0;34m\u001b[0m\u001b[0m\n\u001b[0;32m--> 605\u001b[0;31m     \u001b[0mparser\u001b[0m \u001b[0;34m=\u001b[0m \u001b[0mTextFileReader\u001b[0m\u001b[0;34m(\u001b[0m\u001b[0mfilepath_or_buffer\u001b[0m\u001b[0;34m,\u001b[0m \u001b[0;34m**\u001b[0m\u001b[0mkwds\u001b[0m\u001b[0;34m)\u001b[0m\u001b[0;34m\u001b[0m\u001b[0;34m\u001b[0m\u001b[0m\n\u001b[0m\u001b[1;32m    606\u001b[0m \u001b[0;34m\u001b[0m\u001b[0m\n\u001b[1;32m    607\u001b[0m     \u001b[0;32mif\u001b[0m \u001b[0mchunksize\u001b[0m \u001b[0;32mor\u001b[0m \u001b[0miterator\u001b[0m\u001b[0;34m:\u001b[0m\u001b[0;34m\u001b[0m\u001b[0;34m\u001b[0m\u001b[0m\n",
            "\u001b[0;32m/usr/local/lib/python3.10/dist-packages/pandas/io/parsers/readers.py\u001b[0m in \u001b[0;36m__init__\u001b[0;34m(self, f, engine, **kwds)\u001b[0m\n\u001b[1;32m   1440\u001b[0m \u001b[0;34m\u001b[0m\u001b[0m\n\u001b[1;32m   1441\u001b[0m         \u001b[0mself\u001b[0m\u001b[0;34m.\u001b[0m\u001b[0mhandles\u001b[0m\u001b[0;34m:\u001b[0m \u001b[0mIOHandles\u001b[0m \u001b[0;34m|\u001b[0m \u001b[0;32mNone\u001b[0m \u001b[0;34m=\u001b[0m \u001b[0;32mNone\u001b[0m\u001b[0;34m\u001b[0m\u001b[0;34m\u001b[0m\u001b[0m\n\u001b[0;32m-> 1442\u001b[0;31m         \u001b[0mself\u001b[0m\u001b[0;34m.\u001b[0m\u001b[0m_engine\u001b[0m \u001b[0;34m=\u001b[0m \u001b[0mself\u001b[0m\u001b[0;34m.\u001b[0m\u001b[0m_make_engine\u001b[0m\u001b[0;34m(\u001b[0m\u001b[0mf\u001b[0m\u001b[0;34m,\u001b[0m \u001b[0mself\u001b[0m\u001b[0;34m.\u001b[0m\u001b[0mengine\u001b[0m\u001b[0;34m)\u001b[0m\u001b[0;34m\u001b[0m\u001b[0;34m\u001b[0m\u001b[0m\n\u001b[0m\u001b[1;32m   1443\u001b[0m \u001b[0;34m\u001b[0m\u001b[0m\n\u001b[1;32m   1444\u001b[0m     \u001b[0;32mdef\u001b[0m \u001b[0mclose\u001b[0m\u001b[0;34m(\u001b[0m\u001b[0mself\u001b[0m\u001b[0;34m)\u001b[0m \u001b[0;34m->\u001b[0m \u001b[0;32mNone\u001b[0m\u001b[0;34m:\u001b[0m\u001b[0;34m\u001b[0m\u001b[0;34m\u001b[0m\u001b[0m\n",
            "\u001b[0;32m/usr/local/lib/python3.10/dist-packages/pandas/io/parsers/readers.py\u001b[0m in \u001b[0;36m_make_engine\u001b[0;34m(self, f, engine)\u001b[0m\n\u001b[1;32m   1733\u001b[0m                 \u001b[0;32mif\u001b[0m \u001b[0;34m\"b\"\u001b[0m \u001b[0;32mnot\u001b[0m \u001b[0;32min\u001b[0m \u001b[0mmode\u001b[0m\u001b[0;34m:\u001b[0m\u001b[0;34m\u001b[0m\u001b[0;34m\u001b[0m\u001b[0m\n\u001b[1;32m   1734\u001b[0m                     \u001b[0mmode\u001b[0m \u001b[0;34m+=\u001b[0m \u001b[0;34m\"b\"\u001b[0m\u001b[0;34m\u001b[0m\u001b[0;34m\u001b[0m\u001b[0m\n\u001b[0;32m-> 1735\u001b[0;31m             self.handles = get_handle(\n\u001b[0m\u001b[1;32m   1736\u001b[0m                 \u001b[0mf\u001b[0m\u001b[0;34m,\u001b[0m\u001b[0;34m\u001b[0m\u001b[0;34m\u001b[0m\u001b[0m\n\u001b[1;32m   1737\u001b[0m                 \u001b[0mmode\u001b[0m\u001b[0;34m,\u001b[0m\u001b[0;34m\u001b[0m\u001b[0;34m\u001b[0m\u001b[0m\n",
            "\u001b[0;32m/usr/local/lib/python3.10/dist-packages/pandas/io/common.py\u001b[0m in \u001b[0;36mget_handle\u001b[0;34m(path_or_buf, mode, encoding, compression, memory_map, is_text, errors, storage_options)\u001b[0m\n\u001b[1;32m    854\u001b[0m         \u001b[0;32mif\u001b[0m \u001b[0mioargs\u001b[0m\u001b[0;34m.\u001b[0m\u001b[0mencoding\u001b[0m \u001b[0;32mand\u001b[0m \u001b[0;34m\"b\"\u001b[0m \u001b[0;32mnot\u001b[0m \u001b[0;32min\u001b[0m \u001b[0mioargs\u001b[0m\u001b[0;34m.\u001b[0m\u001b[0mmode\u001b[0m\u001b[0;34m:\u001b[0m\u001b[0;34m\u001b[0m\u001b[0;34m\u001b[0m\u001b[0m\n\u001b[1;32m    855\u001b[0m             \u001b[0;31m# Encoding\u001b[0m\u001b[0;34m\u001b[0m\u001b[0;34m\u001b[0m\u001b[0m\n\u001b[0;32m--> 856\u001b[0;31m             handle = open(\n\u001b[0m\u001b[1;32m    857\u001b[0m                 \u001b[0mhandle\u001b[0m\u001b[0;34m,\u001b[0m\u001b[0;34m\u001b[0m\u001b[0;34m\u001b[0m\u001b[0m\n\u001b[1;32m    858\u001b[0m                 \u001b[0mioargs\u001b[0m\u001b[0;34m.\u001b[0m\u001b[0mmode\u001b[0m\u001b[0;34m,\u001b[0m\u001b[0;34m\u001b[0m\u001b[0;34m\u001b[0m\u001b[0m\n",
            "\u001b[0;31mFileNotFoundError\u001b[0m: [Errno 2] No such file or directory: 'index.csv'"
          ]
        }
      ]
    },
    {
      "cell_type": "code",
      "source": [
        "# Custom dataset class to read images one by one without storing all data at once\n",
        "\n",
        "class Img_Dataset(Dataset):\n",
        "\n",
        "    def __init__(self, csv_file, data_dir, transform=None):\n",
        "\n",
        "        # Image directory\n",
        "        self.data_dir=data_dir\n",
        "\n",
        "        self.transform = transform\n",
        "\n",
        "        data_dircsv_file=os.path.join(self.data_dir, csv_file)\n",
        "\n",
        "        # Load the CSV file contians image info\n",
        "        self.data_name= pd.read_csv(data_dircsv_file)\n",
        "\n",
        "        # Number of images in dataset\n",
        "        self.len=self.data_name.shape[0]\n",
        "\n",
        "    def __len__(self):\n",
        "        return self.len\n",
        "\n",
        "    def __getitem__(self, idx):\n",
        "\n",
        "        # Image file path\n",
        "        img_name=os.path.join(self.data_dir, self.data_name.iloc[idx, 1])\n",
        "        # Open image file\n",
        "        image = Image.open(img_name)\n",
        "\n",
        "        # The class label for the image\n",
        "        y = self.data_name.iloc[idx, 0]\n",
        "\n",
        "        # If there is any transform method, apply it onto the image\n",
        "        if self.transform:\n",
        "            image = self.transform(image)\n",
        "\n",
        "        return image, y"
      ],
      "metadata": {
        "id": "WCwt_LzdKG2m"
      },
      "execution_count": null,
      "outputs": []
    },
    {
      "cell_type": "code",
      "source": [
        "# Create the dataset objects\n",
        "\n",
        "imgdataset = Img_Dataset(csv_file=csv_file, data_dir=dir)"
      ],
      "metadata": {
        "id": "RV2GZWMCM8lq"
      },
      "execution_count": null,
      "outputs": []
    },
    {
      "cell_type": "code",
      "source": [
        "# Combine two transforms: crop and convert to tensor.\n",
        "\n",
        "croptensor_data_transform = transforms.Compose([transforms.CenterCrop(20), transforms.ToTensor()])\n",
        "dataset = Dataset(csv_file=csv_file , data_dir=dir, transform=croptensor_data_transform )"
      ],
      "metadata": {
        "id": "y2aYXDntNL3-"
      },
      "execution_count": null,
      "outputs": []
    },
    {
      "cell_type": "code",
      "source": [
        "# Loading Pre-Built datasets from PyTorch Library\n",
        "# All prebuilt dataset are inside the dsets of Pytorch library\n",
        "# Its similar to TensorFlow tf.data.Dataset\n",
        "import torchvision.datasets as dsets\n",
        "\n",
        "# Import the prebuilt dataset into variable dataset\n",
        "dataset = dsets.MNIST(root = './data',  download = False, transform = transforms.ToTensor())"
      ],
      "metadata": {
        "id": "cheTenKrNYt1"
      },
      "execution_count": null,
      "outputs": []
    },
    {
      "cell_type": "code",
      "source": [
        "import torch.nn as nn\n",
        "import torch.nn.functional as F\n",
        "\n",
        "# PyTorch models inherit from torch.nn.Module\n",
        "class CustomDeepneuralNetwork(nn.Module):\n",
        "    def __init__(self):\n",
        "        super(CustomDeepneuralNetwork, self).__init__()\n",
        "        self.conv1 = nn.Conv2d(1, 6, 5)\n",
        "        self.pool = nn.MaxPool2d(2, 2)\n",
        "        self.conv2 = nn.Conv2d(6, 16, 5)\n",
        "        self.fc1 = nn.Linear(16 * 4 * 4, 120)\n",
        "        self.fc2 = nn.Linear(120, 84)\n",
        "        self.fc3 = nn.Linear(84, 10)\n",
        "\n",
        "    def forward(self, x):\n",
        "        x = self.pool(F.relu(self.conv1(x)))\n",
        "        x = self.pool(F.relu(self.conv2(x)))\n",
        "        x = x.view(-1, 16 * 4 * 4)\n",
        "        x = F.relu(self.fc1(x))\n",
        "        x = F.relu(self.fc2(x))\n",
        "        x = self.fc3(x)\n",
        "        return x"
      ],
      "metadata": {
        "id": "z5dso0VngDHJ"
      },
      "execution_count": 32,
      "outputs": []
    },
    {
      "cell_type": "code",
      "source": [
        "# Training Process for Deep Neural Networks in PyTorch\n",
        "\n",
        "# Define loss function as per model requires\n",
        "loss_fn = torch.nn.CrossEntropyLoss()\n",
        "\n",
        "# Create instance of Neural Network class\n",
        "model = CustomDeepneuralNetwork()\n",
        "\n",
        "# Very important:   ******\n",
        "# If the model needs to run on other device like GPU, modelparameter should be stored\n",
        "# on the right device before calling Optimizers\n",
        "model.to(device)\n",
        "\n",
        "# Chooose any Optimizers specified in the torch.optim package like SGD, Adam, Adagrad\n",
        "# Optimizers must be callled on the Model parameters.\n",
        "optimizer = torch.optim.SGD(model.parameters(), lr=0.001, momentum=0.9)\n",
        "\n",
        "# Randomly initialize for dummy example\n",
        "training_loader = torch.utils.data.DataLoader(custom_dataset)\n",
        "validation_loader =  torch.utils.data.DataLoader(custom_dataset)"
      ],
      "metadata": {
        "id": "3_aRcfgCfjOl"
      },
      "execution_count": 33,
      "outputs": []
    },
    {
      "cell_type": "code",
      "source": [
        "# Define all training computation steps per epoch in a function\n",
        "\n",
        "def train_one_epoch(epoch_index, tb_writer):\n",
        "    running_loss = 0.  # initialize loss variables\n",
        "    last_loss = 0.\n",
        "\n",
        "    # Here, we use enumerate(training_loader) instead of\n",
        "    # iter(training_loader) so that we can track the batch\n",
        "    # index and do some intra-epoch reporting\n",
        "    for i, data in enumerate(training_loader):\n",
        "        # Every data instance is an input + label pair\n",
        "        inputs, labels = data\n",
        "\n",
        "        # reset your gradients for every batch!\n",
        "        optimizer.zero_grad()\n",
        "\n",
        "        # Make predictions for this batch\n",
        "        outputs = model(inputs)\n",
        "\n",
        "        # Compute the loss and its gradients\n",
        "        loss = loss_fn(outputs, labels)\n",
        "        loss.backward()\n",
        "\n",
        "        # Adjust learning weights\n",
        "        optimizer.step()\n",
        "\n",
        "        # Gather data and report\n",
        "        running_loss += loss.item()\n",
        "        if i % 1000 == 999:\n",
        "            last_loss = running_loss / 1000 # loss per batch\n",
        "            print('  batch {} loss: {}'.format(i + 1, last_loss))\n",
        "            tb_x = epoch_index * len(training_loader) + i + 1\n",
        "            # store details in SummaryWriter for TensorBoard display\n",
        "            tb_writer.add_scalar('Loss/train', last_loss, tb_x)\n",
        "            running_loss = 0.\n",
        "\n",
        "    return last_loss"
      ],
      "metadata": {
        "id": "C-7VrCFmgh2z"
      },
      "execution_count": 34,
      "outputs": []
    },
    {
      "cell_type": "code",
      "source": [
        "# Understand the computation at the end of each Epoch\n",
        "# PyTorch TensorBoard support\n",
        "from torch.utils.tensorboard import SummaryWriter\n",
        "from datetime import datetime\n",
        "\n",
        "# Initializing in a separate cell so we can easily add more epochs to the same run\n",
        "timestamp = datetime.now().strftime('%Y%m%d_%H%M%S')\n",
        "writer = SummaryWriter('runs/custom_model_trainer_{}'.format(timestamp))\n",
        "epoch_number = 0\n",
        "\n",
        "EPOCHS = 5\n",
        "\n",
        "best_vloss = 1_000_000.\n",
        "\n",
        "for epoch in range(EPOCHS):\n",
        "    print('EPOCH {}:'.format(epoch_number + 1))\n",
        "\n",
        "    # Very important:   ******\n",
        "    # Make sure gradient tracking is on, and do a pass over the data\n",
        "    model.train(True)\n",
        "    avg_loss = train_one_epoch(epoch_number, writer)\n",
        "\n",
        "\n",
        "    running_vloss = 0.0\n",
        "\n",
        "    # Very important: *******\n",
        "    # Set the model to evaluation mode, disabling dropout and using population\n",
        "    # statistics for batch normalization.\n",
        "    model.eval()\n",
        "\n",
        "    # Very important: *******\n",
        "    # Disable gradient computation and reduce memory consumption.\n",
        "    with torch.no_grad():\n",
        "        for i, vdata in enumerate(validation_loader):\n",
        "            vinputs, vlabels = vdata\n",
        "            voutputs = model(vinputs)\n",
        "            vloss = loss_fn(voutputs, vlabels)\n",
        "            running_vloss += vloss\n",
        "\n",
        "    avg_vloss = running_vloss / (i + 1)\n",
        "    print('LOSS train {} valid {}'.format(avg_loss, avg_vloss))\n",
        "\n",
        "    # Log in SummaryWriter the running loss averaged per batch\n",
        "    # for both training and validation\n",
        "    writer.add_scalars('Training vs. Validation Loss',\n",
        "                    { 'Training' : avg_loss, 'Validation' : avg_vloss },\n",
        "                    epoch_number + 1)\n",
        "    writer.flush()\n",
        "\n",
        "    # Track best performance, and save the model's state\n",
        "    if avg_vloss < best_vloss:\n",
        "        best_vloss = avg_vloss\n",
        "        model_path = 'model_{}_{}'.format(timestamp, epoch_number)\n",
        "        torch.save(model.state_dict(), model_path)\n",
        "\n",
        "    epoch_number += 1"
      ],
      "metadata": {
        "id": "PTiaOcylhP4s"
      },
      "execution_count": null,
      "outputs": []
    },
    {
      "cell_type": "code",
      "source": [
        "# Saving and Loading PyTorch Model\n",
        "\"\"\"\n",
        "When it comes to saving and loading models, there are three core functions to be familiar with:\n",
        "\n",
        "1. torch.save: Saves a serialized object to disk. This function uses Python’s pickle\n",
        "   utility for serialization. Models, tensors, and dictionaries of all kinds of objects\n",
        "   can be saved using this function.\n",
        "\n",
        "2. torch.load: Uses pickle’s unpickling facilities to deserialize pickled object\n",
        "   files to memory. This function also facilitates the device to load the data.\n",
        "\n",
        "3. torch.nn.Module.load_state_dict: Loads a model’s parameter dictionary using a\n",
        "   deserialized state_dict. For more information on state_dict.\n",
        "   \"\"\"\n",
        "\n",
        "# A state_dict is simply a Python dictionary object that maps each layer to its\n",
        "# parameter tensor. Note that only layers with learnable parameters (convolutional\n",
        "# layers, linear layers, etc.) and registered buffers (batchnorm’s running_mean)\n",
        "# have entries in the model’s state_dict. Optimizer objects (torch.optim) also have\n",
        "# a state_dict, which contains information about the optimizer’s state, as well as\n",
        "# the hyperparameters used."
      ],
      "metadata": {
        "id": "tBhGYifPIQUL"
      },
      "execution_count": null,
      "outputs": []
    },
    {
      "cell_type": "code",
      "source": [
        "# Saving & Loading Model for Inference\n",
        "# A common PyTorch convention is to save models using either a .pt or .pth file extension.\n",
        "PATH = \"./output/saved_model.pt\"\n",
        "\n",
        "# Save the model paramters using state_dict()\n",
        "torch.save(model.state_dict(), PATH)\n",
        "\n",
        "# Load the model parameters from saved file\n",
        "model = TheModelClass(*args, **kwargs)\n",
        "model.load_state_dict(torch.load(PATH))\n",
        "# Remember that you must call model.eval() to set dropout and batch normalization\n",
        "# layers to evaluation mode before running inference. Failing to do this will\n",
        "# yield inconsistent inference results.\n",
        "model.eval()"
      ],
      "metadata": {
        "id": "Ws3o-fWFI9a3"
      },
      "execution_count": null,
      "outputs": []
    },
    {
      "cell_type": "code",
      "source": [
        "# Save/Load Entire Model\n",
        "# Saving a model in this way will save the entire module using Python’s pickle module.\n",
        "torch.save(model, PATH)\n",
        "\n",
        "\n",
        "# Load the model\n",
        "model = TheModelClass() # need to define model first\n",
        "model = torch.load(PATH)\n",
        "model.eval()"
      ],
      "metadata": {
        "id": "sBnpwSGiJ_OZ"
      },
      "execution_count": null,
      "outputs": []
    },
    {
      "cell_type": "code",
      "source": [
        "# Export/Load Model in TorchScript Format\n",
        "\"\"\"\n",
        "One common way to do inference with a trained model is to use TorchScript, an intermediate\n",
        "representation of a PyTorch model that can be run in Python as well as in a high performance\n",
        "environment like C++. TorchScript is actually the recommended model format for\n",
        "scaled inference and deployment.\n",
        "\"\"\"\n",
        "# Using the TorchScript format, you will be able to load the exported model and\n",
        "# run inference without defining the model class.\n",
        "\n",
        "# save the model\n",
        "model_scripted = torch.jit.script(model) # Export to TorchScript\n",
        "model_scripted.save('model_scripted.pt') # Save\n",
        "\n",
        "\n",
        "# Load model\n",
        "model = torch.jit.load('model_scripted.pt')\n",
        "model.eval()"
      ],
      "metadata": {
        "id": "k7eTBR9zLH3x"
      },
      "execution_count": null,
      "outputs": []
    },
    {
      "cell_type": "code",
      "source": [
        "# Warmstarting Model Using Parameters from a Different Model in Transfer Learning\n",
        "\n",
        "# Save the model\n",
        "torch.save(modelA.state_dict(), PATH)\n",
        "\n",
        "# Load the model\n",
        "modelB = TheModelBClass(*args, **kwargs)\n",
        "modelB.load_state_dict(torch.load(PATH), strict=False)\n",
        "\n",
        "# Whether you are loading from a partial state_dict, which is missing some keys,\n",
        "# or loading a state_dict with more keys than the model that you are loading into,\n",
        "# you can set the strict argument to False in the load_state_dict() function to\n",
        "# ignore non-matching keys."
      ],
      "metadata": {
        "id": "wM69KLDoLmKN"
      },
      "execution_count": null,
      "outputs": []
    },
    {
      "cell_type": "code",
      "source": [
        "from torch.serialization import MAP_LOCATION\n",
        "# Saving & Loading Model Across Devices\n",
        "\n",
        "# save the model\n",
        "torch.save(model.state_dict(), PATH)\n",
        "\n",
        "# load the model on CPU\n",
        "device = torch.device('cpu')\n",
        "model = TheModelClass(*args, **kwargs)\n",
        "model = torch.load_state_dict(torch.load(PATH), map_location=device)\n",
        "\n",
        "# load the model on GPU\n",
        "device = torch.device('gpu')\n",
        "model = TheModelClass(*args, **kwargs)\n",
        "model = torch.load_state_dict(torch.load(PATH), map_location=device)\n",
        "model.to(device)"
      ],
      "metadata": {
        "id": "eo8nin4aL8rh"
      },
      "execution_count": null,
      "outputs": []
    }
  ]
}