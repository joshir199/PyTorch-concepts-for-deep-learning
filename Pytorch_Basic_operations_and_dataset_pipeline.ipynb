{
  "nbformat": 4,
  "nbformat_minor": 0,
  "metadata": {
    "colab": {
      "provenance": []
    },
    "kernelspec": {
      "name": "python3",
      "display_name": "Python 3"
    },
    "language_info": {
      "name": "python"
    }
  },
  "cells": [
    {
      "cell_type": "markdown",
      "source": [
        "#**Understanding PyTorch library and its working for Machine Learning especially for Deep Learning**\n",
        "\n",
        "From official page :\n",
        "\n",
        "It is an *end-to-end machine learning framework*.\n",
        "\n",
        "PyTorch enables fast, flexible experimentation and efficient production through a user-friendly front-end, distributed training, and ecosystem of tools and libraries.\n",
        "\n",
        "\n",
        "-----------------------------\n",
        "\n",
        "Here, we will be going through the basic concepts of PyTorch library along with examples of build machine learning components.\n",
        "\n",
        "If you already know the concepts related with Numpy or TensorFlow libraries, It will be very easy to understand PyTorch concepts.\n",
        "\n",
        "For Installing PyTorch, please refer here : https://pytorch.org/get-started/locally/\n",
        "\n"
      ],
      "metadata": {
        "id": "ZZMm-pkaUETl"
      }
    },
    {
      "cell_type": "code",
      "execution_count": 14,
      "metadata": {
        "id": "4Fsxlnp-6IjU"
      },
      "outputs": [],
      "source": [
        "# importing the PyTorch library\n",
        "import torch"
      ]
    },
    {
      "cell_type": "code",
      "source": [
        "# Tensors are arrays that are the building blocks of Neural Networks and othe ML Algo.\n",
        "# Create tensors: Create two 1D/2D tensors A and B of the same size, for example:\n",
        "A = torch.tensor([1, 2, 3])\n",
        "B = torch.tensor([[9, 8, 7], [6, 5, 4], [3, 2, 1]], dtype=torch.float32)\n",
        "print(A)\n",
        "print(B)\n",
        "print(A.shape)\n",
        "print(B.shape)\n",
        "print(A.ndim)  # dimension of tensor A\n",
        "print(B.ndim)  # dimension of tensor B\n",
        "print(A.type)\n",
        "print(B.dtype)  # data type os tensor B\n",
        "\n",
        "A = A.type(torch.FloatTensor)  # changing datatype\n",
        "print(A)"
      ],
      "metadata": {
        "colab": {
          "base_uri": "https://localhost:8080/"
        },
        "id": "CQUS3hpj6P01",
        "outputId": "3bd28941-ac37-43d0-831b-095c2b6721f8"
      },
      "execution_count": 15,
      "outputs": [
        {
          "output_type": "stream",
          "name": "stdout",
          "text": [
            "tensor([1, 2, 3])\n",
            "tensor([[9., 8., 7.],\n",
            "        [6., 5., 4.],\n",
            "        [3., 2., 1.]])\n",
            "torch.Size([3])\n",
            "torch.Size([3, 3])\n",
            "1\n",
            "2\n",
            "<built-in method type of Tensor object at 0x7b43c5572bb0>\n",
            "torch.float32\n",
            "tensor([1., 2., 3.])\n"
          ]
        }
      ]
    },
    {
      "cell_type": "code",
      "source": [
        "# Interoperability with other Python libraries like below.\n",
        "import numpy\n",
        "\n",
        "array = numpy.array([1,2,5])\n",
        "print(array)\n",
        "C = torch.from_numpy(array)\n",
        "print(C)\n",
        "tensor_to_array = C.numpy()\n",
        "print(tensor_to_array)"
      ],
      "metadata": {
        "colab": {
          "base_uri": "https://localhost:8080/"
        },
        "id": "8W2rcOt_a-mY",
        "outputId": "2aaa7061-8e55-418e-df0b-d52063910753"
      },
      "execution_count": 16,
      "outputs": [
        {
          "output_type": "stream",
          "name": "stdout",
          "text": [
            "[1 2 5]\n",
            "tensor([1, 2, 5])\n",
            "[1 2 5]\n"
          ]
        }
      ]
    },
    {
      "cell_type": "code",
      "source": [
        "# Let's explore Basic linear algebra subprogram (BLAS) on these tensors.\n",
        "\n",
        "# 1. Matrix addition: Add the two tensors A and C (with same dimension)\n",
        "AC_sum = torch.add(A, C)\n",
        "print(f'AC_sum: {AC_sum}')\n",
        "\n",
        "#  Matrix subtraction: Subtract tensor C from tensor A.\n",
        "AC_sub = torch.sub(A, C)\n",
        "print(f'AC_sub: {AC_sub}')\n",
        "\n",
        "\n",
        "# Matrix multiplication: Multiply tensor A(1x3) and tensor B(3x3).\n",
        "AB_matmul = torch.matmul( A, B)  # gives output (1x3)\n",
        "AB_mm = torch.mm(A.view(1,3), B)  # needs to converted to matrix shape first\n",
        "print(f'AB_matmul: {AB_matmul}')\n",
        "print(f'AB_mm: {AB_mm}')\n",
        "\n",
        "# Element-wise multiplication: Perform element-wise multiplication between tensor A and tensor C.\n",
        "AC_mul = torch.mul(A, C)\n",
        "print(f'AC_sub: {AC_mul}')\n",
        "\n",
        "\n"
      ],
      "metadata": {
        "colab": {
          "base_uri": "https://localhost:8080/"
        },
        "id": "hh7eZ0GR6Ytl",
        "outputId": "7738f52c-3944-411a-90d6-d19fa10276cc"
      },
      "execution_count": 17,
      "outputs": [
        {
          "output_type": "stream",
          "name": "stdout",
          "text": [
            "AC_sum: tensor([2., 4., 8.])\n",
            "AC_sub: tensor([ 0.,  0., -2.])\n",
            "AB_matmul: tensor([30., 24., 18.])\n",
            "AB_mm: tensor([[30., 24., 18.]])\n",
            "AC_sub: tensor([ 1.,  4., 15.])\n"
          ]
        }
      ]
    },
    {
      "cell_type": "markdown",
      "source": [
        "-----------------------------------------------------\n",
        "Here are some **best practices and common errors** to avoid when implementing basic Linear Algebra Subprogram (**BLAS**) operations in PyTorch:\n",
        "\n",
        "* **Use appropriate data types:** Ensure that you use the correct data type for your tensors, such as torch.float32 or torch.int32. Mixing data types without proper conversion can lead to unexpected results and errors.\n",
        "\n",
        "* **Dimensionality:** Make sure that the tensors involved in the operations have compatible shapes. For instance, when performing matrix multiplication, the number of columns in the first matrix should match the number of rows in the second matrix.\n",
        "\n",
        "* **In-place operations:** PyTorch provides in-place versions of operations (e.g., add_(), sub_(), mul_()) that directly modify the input tensor without creating a new one. Use these carefully, as they may lead to unwanted side effects if not managed properly.\n",
        "\n",
        "* **Memory management:** Be aware of memory consumption, especially when working with large tensors. Reusing tensors or performing operations in-place can help reduce memory usage.\n",
        "\n",
        "* **Use GPU acceleration:** PyTorch supports GPU acceleration for tensor operations. To take advantage of this feature, move your tensors to the GPU using the .to() or .cuda() methods.\n",
        "\n",
        "\n",
        "\n",
        "```\n",
        "               device = torch.device(\"cuda:0\" if torch.cuda.is_available() else \"cpu\")\n",
        "               A = A.to(device)\n",
        "               B = B.to(device)\n",
        "```\n",
        "\n",
        "\n",
        "* **Error handling:** When implementing BLAS operations, it’s essential to handle exceptions that may arise due to incompatible tensor shapes or data types. Use the try and except statements to catch and handle errors gracefully."
      ],
      "metadata": {
        "id": "XNBRgGs2fT-g"
      }
    },
    {
      "cell_type": "code",
      "source": [
        "# Implement tensor slicing and indexing\n",
        "# 1. Indexing\n",
        "#    Access specific elements in a tensor using indices, similar to Python lists:\n",
        "element = B[0, 1]  # Access the element at row 0 and column 1\n",
        "print(f'element: {element}')\n",
        "\n",
        "# 2. Slicing\n",
        "#    Slice tensors by specifying a range of indices for each dimension:\n",
        "sub_tensor = B[1:3, 0:2]  # Extracts the sub-tensor from rows 1 to 2 (inclusive)\n",
        "                                # and columns 0 to 1 (inclusive)\n",
        "print(f'sub_tensor: {sub_tensor}')\n",
        "\n",
        "# Advanced Indexing  (similar to filtering in Dataframe)\n",
        "# Use integer tensors or boolean masks for more advanced indexing:\n",
        "mask = B > 5  # Creates a boolean mask where each element is True if the\n",
        "                      # corresponding element in 'tensor' is greater than 5\n",
        "result = B[mask]  # Extracts elements from 'tensor' where the corresponding mask element is True\n",
        "print(f'result: {result}')"
      ],
      "metadata": {
        "colab": {
          "base_uri": "https://localhost:8080/"
        },
        "id": "yamu2vmpfQON",
        "outputId": "c7decb85-015b-47ea-ffdc-b761839d96ab"
      },
      "execution_count": 18,
      "outputs": [
        {
          "output_type": "stream",
          "name": "stdout",
          "text": [
            "element: 8.0\n",
            "sub_tensor: tensor([[6., 5.],\n",
            "        [3., 2.]])\n",
            "result: tensor([9., 8., 7., 6.])\n"
          ]
        }
      ]
    },
    {
      "cell_type": "markdown",
      "source": [
        "----------------------------------------------------------\n",
        "When working with **tensor slicing and indexing** in PyTorch, consider the following best practices and common errors:\n",
        "\n",
        "* **Remember zero-indexing:** In Python and PyTorch, indices start from 0, not 1. Ensure you are using the correct index when accessing tensor elements.\n",
        "\n",
        "* **Understand slicing ranges:** When slicing, the start index is inclusive, while the end index is exclusive. For example, tensor[0:2] will include elements at indices 0 and 1, but not 2.\n",
        "\n",
        "* **Preserve dimensions:** When slicing a single row or column, the resulting tensor may have reduced dimensions. To preserve dimensions, use a slice instead of a single index: tensor[1:2, :] instead of tensor[1, :].\n",
        "\n",
        "* **Avoid in-place operations:** In-place operations, such as **tensor[0, 1] += 1**, can cause issues with PyTorch’s gradient computation. Use tensor = tensor + 1 or **tensor.add_(1)** for safer alternatives.\n",
        "\n",
        "* **Use advanced indexing cautiously:** Advanced indexing with integer tensors or boolean masks can be powerful but may also introduce complexity and performance overhead. Use simple indexing and slicing when possible, and only resort to advanced techniques when necessary.\n",
        "\n",
        "* **Ensure correct index data types:** When using integer tensors for advanced indexing, ensure the data type is torch.long or torch.int64. Other data types may cause unexpected behavior."
      ],
      "metadata": {
        "id": "rqdcR9LJjdku"
      }
    },
    {
      "cell_type": "code",
      "source": [
        "# Derivatives\n",
        "# A tensor can be created with requires_grad=True so that torch.autograd records\n",
        "# operations on them for automatic differentiation\n",
        "\n",
        "x = torch.tensor(2.0, requires_grad = True)   # tensor with which derivative will be taken\n",
        "print(\"x: \", x)\n",
        "y = x ** 2\n",
        "\n",
        "y.backward()  # derivative of y is calculated with respect to x  => 2*x\n",
        "\n",
        "result = x.grad\n",
        "print(f'result: {result}')"
      ],
      "metadata": {
        "colab": {
          "base_uri": "https://localhost:8080/"
        },
        "id": "jax38hGV6sUl",
        "outputId": "2b91fb75-173d-417e-e678-f7e1cb592727"
      },
      "execution_count": 19,
      "outputs": [
        {
          "output_type": "stream",
          "name": "stdout",
          "text": [
            "x:  tensor(2., requires_grad=True)\n",
            "result: 4.0\n"
          ]
        }
      ]
    },
    {
      "cell_type": "code",
      "source": [
        "\"\"\"\n",
        "\n",
        "Behind the scenes, pytorch calculates derivatives by creating a backwards graph.\n",
        "It is a particular type of graph in which the tensors and the backwards functions\n",
        "are the nodes in the graph.\n",
        "Based upon whether a particular tensor is a leaf or not in the graph, pytorch\n",
        "evaluates the derivative of that tensor. If the leaf attribute for a tensor is set\n",
        "to True, pytorch won’t evaluate its derivative.\n",
        "\n",
        "\"\"\"\n",
        "\n",
        "print(\" For x\")\n",
        "print('data:',x.data)\n",
        "print('grad_fn:',x.grad_fn)\n",
        "print('grad:',x.grad)\n",
        "print(\"x is_leaf:\",x.is_leaf) # derivative not calculated\n",
        "print(\"requires_grad:\",x.requires_grad)\n",
        "print(\"\\n\")\n",
        "\n",
        "print(\"For y\")\n",
        "print('data:',y.data)\n",
        "print('grad_fn:',y.grad_fn)\n",
        "print('grad:',y.grad)\n",
        "print(\"is_leaf:\",y.is_leaf)\n",
        "print(\"requires_grad:\",y.requires_grad)"
      ],
      "metadata": {
        "colab": {
          "base_uri": "https://localhost:8080/"
        },
        "id": "GSkNriCt2F_H",
        "outputId": "93f19ef1-f065-4d5a-cc55-04fa84d9fe86"
      },
      "execution_count": 20,
      "outputs": [
        {
          "output_type": "stream",
          "name": "stdout",
          "text": [
            " For x\n",
            "data: tensor(2.)\n",
            "grad_fn: None\n",
            "grad: tensor(4.)\n",
            "x is_leaf: True\n",
            "requires_grad: True\n",
            "\n",
            "\n",
            "For y\n",
            "data: tensor(4.)\n",
            "grad_fn: <PowBackward0 object at 0x7b448e283880>\n",
            "grad: None\n",
            "is_leaf: False\n",
            "requires_grad: True\n"
          ]
        },
        {
          "output_type": "stream",
          "name": "stderr",
          "text": [
            "<ipython-input-20-626753339a5b>:23: UserWarning: The .grad attribute of a Tensor that is not a leaf Tensor is being accessed. Its .grad attribute won't be populated during autograd.backward(). If you indeed want the .grad field to be populated for a non-leaf Tensor, use .retain_grad() on the non-leaf Tensor. If you access the non-leaf Tensor by mistake, make sure you access the leaf Tensor instead. See github.com/pytorch/pytorch/pull/30531 for more informations. (Triggered internally at aten/src/ATen/core/TensorBody.h:486.)\n",
            "  print('grad:',y.grad)\n"
          ]
        }
      ]
    },
    {
      "cell_type": "code",
      "source": [
        "# Partial Derivatives\n",
        "# Here we have a function of two variables or more variables. We will use\n",
        "# rule of derivative to calculate partial derivative\n",
        "\n",
        "u = torch.tensor(2.0, requires_grad = True)   # tensor with which derivative will be taken\n",
        "v = torch.tensor(3.0, requires_grad = True)   # tensor with which derivative will be taken\n",
        "\n",
        "py = u**2 + 2*u*v + v**2 + u + 3*v + 1\n",
        "\n",
        "py.backward()   # partial derivative is calculated. w.r.t u => 2*u + 2*v + 1\n",
        "                                           # w.r.t v  => 2*u + 2*v + 3\n",
        "\n",
        "u_result = u.grad\n",
        "v_result = v.grad\n",
        "\n",
        "print(\"u_result: \", u_result)\n",
        "print(\"v_result: \", v_result)"
      ],
      "metadata": {
        "colab": {
          "base_uri": "https://localhost:8080/"
        },
        "id": "7DzCZHSH6y8c",
        "outputId": "c0adff78-9702-44de-fb3d-8a486618aaeb"
      },
      "execution_count": 21,
      "outputs": [
        {
          "output_type": "stream",
          "name": "stdout",
          "text": [
            "u_result:  tensor(11.)\n",
            "v_result:  tensor(13.)\n"
          ]
        }
      ]
    },
    {
      "cell_type": "code",
      "source": [
        "# Custom derivative function class by subclassing torch.autograd.Function and\n",
        "# implementing the forward and backward passes\n",
        "\n",
        "class SQ(torch.autograd.Function):\n",
        "\n",
        "\n",
        "    @staticmethod\n",
        "    def forward(ctx,i):\n",
        "        \"\"\"\n",
        "        In the forward pass we receive a Tensor containing the input and return\n",
        "        a Tensor containing the output. ctx is a context object that can be used\n",
        "        to stash information for backward computation. You can cache arbitrary\n",
        "        objects for use in the backward pass using the ctx.save_for_backward method.\n",
        "        \"\"\"\n",
        "        result=i**2   # fixed derivative function\n",
        "        ctx.save_for_backward(i)  # caching objects in context\n",
        "        return result\n",
        "\n",
        "    @staticmethod\n",
        "    def backward(ctx, grad_output):\n",
        "        \"\"\"\n",
        "        In the backward pass we receive a Tensor containing the gradient of the loss\n",
        "        with respect to the output, and we need to compute the gradient of the loss\n",
        "        with respect to the input.\n",
        "        \"\"\"\n",
        "        i, = ctx.saved_tensors\n",
        "        grad_output = 2*i\n",
        "        return grad_output"
      ],
      "metadata": {
        "id": "b_VElNBo62vV"
      },
      "execution_count": 22,
      "outputs": []
    },
    {
      "cell_type": "code",
      "source": [
        "sq=SQ.apply\n",
        "\n",
        "custom_fun = sq(x)\n",
        "custom_fun.backward()\n",
        "\n",
        "print(x.grad)"
      ],
      "metadata": {
        "colab": {
          "base_uri": "https://localhost:8080/"
        },
        "id": "xZYoQpfI67KU",
        "outputId": "fa69c505-8a1d-4c19-d5e8-b67c4cf2408d"
      },
      "execution_count": 23,
      "outputs": [
        {
          "output_type": "stream",
          "name": "stdout",
          "text": [
            "tensor(8.)\n"
          ]
        }
      ]
    },
    {
      "cell_type": "code",
      "source": [
        "# Calculate the derivative with multiple values\n",
        "import matplotlib.pyplot as plt\n",
        "\n",
        "x_lin = torch.linspace(-10, 10, 10, requires_grad = True)\n",
        "Ym = x_lin ** 2\n",
        "ym = torch.sum(x_lin ** 2)\n",
        "\n",
        "ym.backward()\n",
        "\n",
        "plt.plot(x_lin.detach().numpy(), Ym.detach().numpy(), label = 'function')\n",
        "plt.plot(x_lin.detach().numpy(), x_lin.grad.detach().numpy(), label = 'derivative')\n",
        "\"\"\"\n",
        "The method detach() excludes further tracking of operations in the graph, and the subgraph\n",
        "will not record operations. This allows us to then convert the tensor to a numpy array.\n",
        "\"\"\"\n",
        "plt.xlabel('x')\n",
        "plt.legend()\n",
        "plt.show()"
      ],
      "metadata": {
        "colab": {
          "base_uri": "https://localhost:8080/",
          "height": 449
        },
        "id": "WWqygrul8L_F",
        "outputId": "60f3d38c-18d3-4468-cb61-4ea069848c3c"
      },
      "execution_count": 24,
      "outputs": [
        {
          "output_type": "display_data",
          "data": {
            "text/plain": [
              "<Figure size 640x480 with 1 Axes>"
            ],
            "image/png": "[encoded data removed]"
          },
          "metadata": {}
        }
      ]
    },
    {
      "cell_type": "code",
      "source": [
        "from logging import raiseExceptions\n",
        "# Creating custom Dataset Class by extending PyTorch Dataset to generate dataset.\n",
        "# Also, It can handle the transform of the generated dataset\n",
        "\n",
        "from torch.utils.data import Dataset  # Dataset class\n",
        "torch.manual_seed(1)  # setting seed value\n",
        "\n",
        "class get_Dataset(Dataset):\n",
        "\n",
        "  def __init__(self, length = 100, transform = None) -> None:\n",
        "    super().__init__()\n",
        "    self.x = torch.ones(size=(length, 3))\n",
        "    self.y = torch.ones(size=(length, 1))\n",
        "    self.len = length\n",
        "    self.transform = transform\n",
        "\n",
        "  def __getitem__(self, index):\n",
        "    if(index < self.len):\n",
        "      sample = (self.x[index], self.y[index])\n",
        "      if self.transform:\n",
        "        sample = self.transform(sample)\n",
        "      return sample\n",
        "    else :\n",
        "      raise Exception(\"Index out of bound requested\")\n",
        "\n",
        "  def __len__(self):\n",
        "    return self.len\n",
        "\n"
      ],
      "metadata": {
        "id": "FLNpIUOtwPgU"
      },
      "execution_count": 27,
      "outputs": []
    },
    {
      "cell_type": "code",
      "source": [
        "#Let's create custom Dataset Object.\n",
        "\n",
        "custom_dataset = get_Dataset()\n",
        "print(\"custom dataset: \", custom_dataset)\n",
        "print(\"length :\", custom_dataset.len)\n",
        "print(\"value at index 2: \", custom_dataset[2])\n",
        "\n",
        "# Dataset object is also an Iterable.\n",
        "# get the data of dataset while Iterating over it\n",
        "for xi, yi in custom_dataset:\n",
        "  print(f'x : {xi}, y: {yi}')\n",
        "  break\n",
        "\n"
      ],
      "metadata": {
        "colab": {
          "base_uri": "https://localhost:8080/"
        },
        "id": "Lw8MLTm80L7Q",
        "outputId": "e23a8d00-c01f-4c45-8345-e590a00853ff"
      },
      "execution_count": 35,
      "outputs": [
        {
          "output_type": "stream",
          "name": "stdout",
          "text": [
            "custom dataset:  <__main__.get_Dataset object at 0x7b43bc685ab0>\n",
            "length : 100\n",
            "value at index 2:  (tensor([1., 1., 1.]), tensor([1.]))\n",
            "x : tensor([1., 1., 1.]), y: tensor([1.])\n"
          ]
        }
      ]
    },
    {
      "cell_type": "code",
      "source": [
        "# Lets add Transform function while creating dataset.\n",
        "# Lets create callable transform class\n",
        "\n",
        "class simple_transform_one(object):\n",
        "\n",
        "  def __init__(self, x_transform=2, y_transform = 3):\n",
        "    self.xf = x_transform\n",
        "    self.yf = y_transform\n",
        "\n",
        "  def __call__(self, data):\n",
        "    x = data[0]\n",
        "    y = data[1]\n",
        "\n",
        "    x = x*self.xf + 1\n",
        "    y = y*self.yf\n",
        "    sample = x, y\n",
        "    return sample"
      ],
      "metadata": {
        "id": "UUseRigswcfM"
      },
      "execution_count": 47,
      "outputs": []
    },
    {
      "cell_type": "code",
      "source": [
        "transform_obj = simple_transform_one(x_transform=0.5) # creating transform callable object\n",
        "t_custom_dataset = get_Dataset(transform=transform_obj) # passing transform object\n",
        "print(\"value at index 2: \", t_custom_dataset[2])\n",
        "print(\"directly transforming value at index 2: \", transform_obj(custom_dataset[2]))"
      ],
      "metadata": {
        "colab": {
          "base_uri": "https://localhost:8080/"
        },
        "id": "kSr4FOlz09Dt",
        "outputId": "858f5ec8-aeb4-4abb-dc64-86fc067f4aec"
      },
      "execution_count": 40,
      "outputs": [
        {
          "output_type": "stream",
          "name": "stdout",
          "text": [
            "value at index 2:  (tensor([1.5000, 1.5000, 1.5000]), tensor([3.]))\n",
            "directly transforming value at index 2:  (tensor([1.5000, 1.5000, 1.5000]), tensor([3.]))\n"
          ]
        }
      ]
    },
    {
      "cell_type": "code",
      "source": [
        "# Composing multiple transform functions as a pipeline for dataset\n",
        "\n",
        "# Run the command below when you do not have torchvision installed\n",
        "#!mamba install -y torchvision\n",
        "\n",
        "from torchvision import transforms"
      ],
      "metadata": {
        "id": "Tgk20noV33dq"
      },
      "execution_count": 41,
      "outputs": []
    },
    {
      "cell_type": "code",
      "source": [
        "class simple_transform_two(object):\n",
        "\n",
        "  def __init__(self, x_transform=2, y_transform = 3):\n",
        "    self.xf = x_transform\n",
        "    self.yf = y_transform\n",
        "\n",
        "  def __call__(self, data):\n",
        "    x = data[0]\n",
        "    y = data[1]\n",
        "\n",
        "    x = x*self.xf + x*2 + 1\n",
        "    y = y*self.yf + 1\n",
        "    sample = x, y\n",
        "    return sample"
      ],
      "metadata": {
        "id": "0QbsDaxc5DHQ"
      },
      "execution_count": 48,
      "outputs": []
    },
    {
      "cell_type": "code",
      "source": [
        "# Composing the transform functions into a list form and passing it at once\n",
        "data_transform = transforms.Compose([simple_transform_one(), simple_transform_two()])\n",
        "print(\"The combination of transforms (Compose): \", data_transform)\n",
        "\n",
        "multiTransform_dataset = get_Dataset(transform=data_transform)\n",
        "print(\"value at index 2: \", multiTransform_dataset[2])"
      ],
      "metadata": {
        "colab": {
          "base_uri": "https://localhost:8080/"
        },
        "id": "MGj3ZnRd5d51",
        "outputId": "a840c53d-8bba-41f0-a01d-e5e337741ecc"
      },
      "execution_count": 50,
      "outputs": [
        {
          "output_type": "stream",
          "name": "stdout",
          "text": [
            "The combination of transforms (Compose):  Compose(\n",
            "    <__main__.simple_transform_one object at 0x7b43ba802290>\n",
            "    <__main__.simple_transform_two object at 0x7b43ba802ef0>\n",
            ")\n",
            "value at index 2:  (tensor([13., 13., 13.]), tensor([10.]))\n"
          ]
        }
      ]
    },
    {
      "cell_type": "code",
      "source": [
        "# Creating Dataset class which will fetch data from local storage\n",
        "# Let's consider image data (containing images of animals with its class) are\n",
        "# stored in the local storage in csv format.\n",
        "from torch.utils.data import Dataset, DataLoader\n",
        "from PIL import Image\n",
        "import pandas as pd\n",
        "import os\n",
        "\n",
        "\"\"\"\n",
        "SL No. |  class name    |  image name\n",
        " 1     |  dog           | /dataset/train/image_001\n",
        " 2     |  cat           | /dataset/train/image_002\n",
        " 3     |  rat           | /dataset/train/image_003\n",
        " 4     |  dog           | /dataset/train/image_004\n",
        "\n",
        "\"\"\"\n",
        "# csv path for stored dataset in local drive\n",
        "dir = \"\"\n",
        "csv_file ='index.csv'  #csv file name\n",
        "csv_path = os.path.join(dir, csv_file)\n",
        "data_name = pd.read_csv(csv_path)  # reading data from csv file\n",
        "\n",
        "# 'File name : data_name.iloc[1, 1]   , [row, column]\n",
        "# 'class name: data_name.iloc[1, 0]\n",
        "\n",
        "# thus, image path can be found as:\n",
        "image_path = os.path.join(dir, data_name.iloc[1, 1])"
      ],
      "metadata": {
        "id": "OnQjam846C63"
      },
      "execution_count": null,
      "outputs": []
    },
    {
      "cell_type": "code",
      "source": [
        "# Custom dataset class to read images one by one without storing all data at once\n",
        "\n",
        "class Img_Dataset(Dataset):\n",
        "\n",
        "    def __init__(self, csv_file, data_dir, transform=None):\n",
        "\n",
        "        # Image directory\n",
        "        self.data_dir=data_dir\n",
        "\n",
        "        self.transform = transform\n",
        "\n",
        "        data_dircsv_file=os.path.join(self.data_dir, csv_file)\n",
        "\n",
        "        # Load the CSV file contians image info\n",
        "        self.data_name= pd.read_csv(data_dircsv_file)\n",
        "\n",
        "        # Number of images in dataset\n",
        "        self.len=self.data_name.shape[0]\n",
        "\n",
        "    def __len__(self):\n",
        "        return self.len\n",
        "\n",
        "    def __getitem__(self, idx):\n",
        "\n",
        "        # Image file path\n",
        "        img_name=os.path.join(self.data_dir, self.data_name.iloc[idx, 1])\n",
        "        # Open image file\n",
        "        image = Image.open(img_name)\n",
        "\n",
        "        # The class label for the image\n",
        "        y = self.data_name.iloc[idx, 0]\n",
        "\n",
        "        # If there is any transform method, apply it onto the image\n",
        "        if self.transform:\n",
        "            image = self.transform(image)\n",
        "\n",
        "        return image, y"
      ],
      "metadata": {
        "id": "WCwt_LzdKG2m"
      },
      "execution_count": 52,
      "outputs": []
    },
    {
      "cell_type": "code",
      "source": [
        "# Create the dataset objects\n",
        "\n",
        "imgdataset = Img_Dataset(csv_file=csv_file, data_dir=dir)"
      ],
      "metadata": {
        "id": "RV2GZWMCM8lq"
      },
      "execution_count": null,
      "outputs": []
    },
    {
      "cell_type": "code",
      "source": [
        "# Combine two transforms: crop and convert to tensor.\n",
        "\n",
        "croptensor_data_transform = transforms.Compose([transforms.CenterCrop(20), transforms.ToTensor()])\n",
        "dataset = Dataset(csv_file=csv_file , data_dir=dir, transform=croptensor_data_transform )"
      ],
      "metadata": {
        "id": "y2aYXDntNL3-"
      },
      "execution_count": null,
      "outputs": []
    },
    {
      "cell_type": "code",
      "source": [
        "# Loading Pre-Built datasets from PyTorch Library\n",
        "# All prebuilt dataset are inside the dsets of Pytorch library\n",
        "# Its similar to TensorFlow tf.data.Dataset\n",
        "import torchvision.datasets as dsets\n",
        "\n",
        "# Import the prebuilt dataset into variable dataset\n",
        "dataset = dsets.MNIST(root = './data',  download = False, transform = transforms.ToTensor())"
      ],
      "metadata": {
        "id": "cheTenKrNYt1"
      },
      "execution_count": null,
      "outputs": []
    }
  ]
}